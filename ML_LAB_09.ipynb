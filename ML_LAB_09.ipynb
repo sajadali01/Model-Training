{
  "cells": [
    {
      "cell_type": "markdown",
      "metadata": {
        "id": "r2BepxPBx9PQ"
      },
      "source": [
        "# Imports"
      ]
    },
    {
      "cell_type": "code",
      "execution_count": null,
      "metadata": {
        "id": "4e3-o18Yx9PZ"
      },
      "outputs": [],
      "source": [
        "import numpy as np\n",
        "import pandas as pd\n",
        "import matplotlib.pyplot as plt\n",
        "import seaborn as sns\n",
        "from sklearn.preprocessing import StandardScaler, LabelEncoder\n",
        "from sklearn.model_selection import train_test_split\n",
        "from sklearn.metrics import accuracy_score,f1_score, confusion_matrix,r2_score, classification_report,roc_auc_score,roc_curve,mean_absolute_error, mean_squared_error, roc_curve, roc_auc_score, precision_score, recall_score\n",
        "from sklearn.linear_model import LogisticRegression,Perceptron\n",
        "from imblearn.over_sampling import SMOTE\n",
        "\n",
        "import tensorflow as tf\n",
        "from tensorflow.keras.models import Sequential\n",
        "from tensorflow.keras.layers import Dense\n",
        "from tensorflow.keras.utils import to_categorical\n",
        "from tensorflow.keras import metrics"
      ]
    },
    {
      "cell_type": "markdown",
      "metadata": {
        "id": "uXGnSxVYx9Pd"
      },
      "source": [
        "# Task 01"
      ]
    },
    {
      "cell_type": "code",
      "execution_count": null,
      "metadata": {
        "id": "LNvfbQv_x9Pe",
        "outputId": "fcee1ed1-8a39-4969-9316-6cc1e4af058d"
      },
      "outputs": [
        {
          "data": {
            "text/html": [
              "<div>\n",
              "<style scoped>\n",
              "    .dataframe tbody tr th:only-of-type {\n",
              "        vertical-align: middle;\n",
              "    }\n",
              "\n",
              "    .dataframe tbody tr th {\n",
              "        vertical-align: top;\n",
              "    }\n",
              "\n",
              "    .dataframe thead th {\n",
              "        text-align: right;\n",
              "    }\n",
              "</style>\n",
              "<table border=\"1\" class=\"dataframe\">\n",
              "  <thead>\n",
              "    <tr style=\"text-align: right;\">\n",
              "      <th></th>\n",
              "      <th>age</th>\n",
              "      <th>sex</th>\n",
              "      <th>cp</th>\n",
              "      <th>trestbps</th>\n",
              "      <th>chol</th>\n",
              "      <th>fbs</th>\n",
              "      <th>restecg</th>\n",
              "      <th>thalach</th>\n",
              "      <th>exang</th>\n",
              "      <th>oldpeak</th>\n",
              "      <th>slope</th>\n",
              "      <th>ca</th>\n",
              "      <th>thal</th>\n",
              "      <th>target</th>\n",
              "    </tr>\n",
              "  </thead>\n",
              "  <tbody>\n",
              "    <tr>\n",
              "      <th>0</th>\n",
              "      <td>52</td>\n",
              "      <td>1</td>\n",
              "      <td>0</td>\n",
              "      <td>125</td>\n",
              "      <td>212</td>\n",
              "      <td>0</td>\n",
              "      <td>1</td>\n",
              "      <td>168</td>\n",
              "      <td>0</td>\n",
              "      <td>1.0</td>\n",
              "      <td>2</td>\n",
              "      <td>2</td>\n",
              "      <td>3</td>\n",
              "      <td>0</td>\n",
              "    </tr>\n",
              "    <tr>\n",
              "      <th>1</th>\n",
              "      <td>53</td>\n",
              "      <td>1</td>\n",
              "      <td>0</td>\n",
              "      <td>140</td>\n",
              "      <td>203</td>\n",
              "      <td>1</td>\n",
              "      <td>0</td>\n",
              "      <td>155</td>\n",
              "      <td>1</td>\n",
              "      <td>3.1</td>\n",
              "      <td>0</td>\n",
              "      <td>0</td>\n",
              "      <td>3</td>\n",
              "      <td>0</td>\n",
              "    </tr>\n",
              "    <tr>\n",
              "      <th>2</th>\n",
              "      <td>70</td>\n",
              "      <td>1</td>\n",
              "      <td>0</td>\n",
              "      <td>145</td>\n",
              "      <td>174</td>\n",
              "      <td>0</td>\n",
              "      <td>1</td>\n",
              "      <td>125</td>\n",
              "      <td>1</td>\n",
              "      <td>2.6</td>\n",
              "      <td>0</td>\n",
              "      <td>0</td>\n",
              "      <td>3</td>\n",
              "      <td>0</td>\n",
              "    </tr>\n",
              "    <tr>\n",
              "      <th>3</th>\n",
              "      <td>61</td>\n",
              "      <td>1</td>\n",
              "      <td>0</td>\n",
              "      <td>148</td>\n",
              "      <td>203</td>\n",
              "      <td>0</td>\n",
              "      <td>1</td>\n",
              "      <td>161</td>\n",
              "      <td>0</td>\n",
              "      <td>0.0</td>\n",
              "      <td>2</td>\n",
              "      <td>1</td>\n",
              "      <td>3</td>\n",
              "      <td>0</td>\n",
              "    </tr>\n",
              "    <tr>\n",
              "      <th>4</th>\n",
              "      <td>62</td>\n",
              "      <td>0</td>\n",
              "      <td>0</td>\n",
              "      <td>138</td>\n",
              "      <td>294</td>\n",
              "      <td>1</td>\n",
              "      <td>1</td>\n",
              "      <td>106</td>\n",
              "      <td>0</td>\n",
              "      <td>1.9</td>\n",
              "      <td>1</td>\n",
              "      <td>3</td>\n",
              "      <td>2</td>\n",
              "      <td>0</td>\n",
              "    </tr>\n",
              "  </tbody>\n",
              "</table>\n",
              "</div>"
            ],
            "text/plain": [
              "   age  sex  cp  trestbps  chol  fbs  restecg  thalach  exang  oldpeak  slope  \\\n",
              "0   52    1   0       125   212    0        1      168      0      1.0      2   \n",
              "1   53    1   0       140   203    1        0      155      1      3.1      0   \n",
              "2   70    1   0       145   174    0        1      125      1      2.6      0   \n",
              "3   61    1   0       148   203    0        1      161      0      0.0      2   \n",
              "4   62    0   0       138   294    1        1      106      0      1.9      1   \n",
              "\n",
              "   ca  thal  target  \n",
              "0   2     3       0  \n",
              "1   0     3       0  \n",
              "2   0     3       0  \n",
              "3   1     3       0  \n",
              "4   3     2       0  "
            ]
          },
          "execution_count": 6,
          "metadata": {},
          "output_type": "execute_result"
        }
      ],
      "source": [
        "#Loading\n",
        "\n",
        "dataset = pd.read_csv('heart.csv')\n",
        "dataset.head()"
      ]
    },
    {
      "cell_type": "code",
      "execution_count": null,
      "metadata": {
        "id": "oMWaFqb3x9Pg",
        "outputId": "5405c87e-2509-416f-f207-4a4a6108934b"
      },
      "outputs": [
        {
          "name": "stdout",
          "output_type": "stream",
          "text": [
            "<class 'pandas.core.frame.DataFrame'>\n",
            "RangeIndex: 1025 entries, 0 to 1024\n",
            "Data columns (total 14 columns):\n",
            " #   Column    Non-Null Count  Dtype  \n",
            "---  ------    --------------  -----  \n",
            " 0   age       1025 non-null   int64  \n",
            " 1   sex       1025 non-null   int64  \n",
            " 2   cp        1025 non-null   int64  \n",
            " 3   trestbps  1025 non-null   int64  \n",
            " 4   chol      1025 non-null   int64  \n",
            " 5   fbs       1025 non-null   int64  \n",
            " 6   restecg   1025 non-null   int64  \n",
            " 7   thalach   1025 non-null   int64  \n",
            " 8   exang     1025 non-null   int64  \n",
            " 9   oldpeak   1025 non-null   float64\n",
            " 10  slope     1025 non-null   int64  \n",
            " 11  ca        1025 non-null   int64  \n",
            " 12  thal      1025 non-null   int64  \n",
            " 13  target    1025 non-null   int64  \n",
            "dtypes: float64(1), int64(13)\n",
            "memory usage: 112.2 KB\n",
            "Information: \n",
            " None\n",
            "\n",
            "\n",
            "Statistica Summary: \n",
            "                age          sex           cp     trestbps        chol  \\\n",
            "count  1025.000000  1025.000000  1025.000000  1025.000000  1025.00000   \n",
            "mean     54.434146     0.695610     0.942439   131.611707   246.00000   \n",
            "std       9.072290     0.460373     1.029641    17.516718    51.59251   \n",
            "min      29.000000     0.000000     0.000000    94.000000   126.00000   \n",
            "25%      48.000000     0.000000     0.000000   120.000000   211.00000   \n",
            "50%      56.000000     1.000000     1.000000   130.000000   240.00000   \n",
            "75%      61.000000     1.000000     2.000000   140.000000   275.00000   \n",
            "max      77.000000     1.000000     3.000000   200.000000   564.00000   \n",
            "\n",
            "               fbs      restecg      thalach        exang      oldpeak  \\\n",
            "count  1025.000000  1025.000000  1025.000000  1025.000000  1025.000000   \n",
            "mean      0.149268     0.529756   149.114146     0.336585     1.071512   \n",
            "std       0.356527     0.527878    23.005724     0.472772     1.175053   \n",
            "min       0.000000     0.000000    71.000000     0.000000     0.000000   \n",
            "25%       0.000000     0.000000   132.000000     0.000000     0.000000   \n",
            "50%       0.000000     1.000000   152.000000     0.000000     0.800000   \n",
            "75%       0.000000     1.000000   166.000000     1.000000     1.800000   \n",
            "max       1.000000     2.000000   202.000000     1.000000     6.200000   \n",
            "\n",
            "             slope           ca         thal       target  \n",
            "count  1025.000000  1025.000000  1025.000000  1025.000000  \n",
            "mean      1.385366     0.754146     2.323902     0.513171  \n",
            "std       0.617755     1.030798     0.620660     0.500070  \n",
            "min       0.000000     0.000000     0.000000     0.000000  \n",
            "25%       1.000000     0.000000     2.000000     0.000000  \n",
            "50%       1.000000     0.000000     2.000000     1.000000  \n",
            "75%       2.000000     1.000000     3.000000     1.000000  \n",
            "max       2.000000     4.000000     3.000000     1.000000  \n"
          ]
        },
        {
          "data": {
            "text/plain": [
              "<Figure size 1000x800 with 0 Axes>"
            ]
          },
          "metadata": {},
          "output_type": "display_data"
        },
        {
          "data": {
            "image/png": "[encoded data removed]",
            "text/plain": [
              "<Figure size 1000x1000 with 36 Axes>"
            ]
          },
          "metadata": {},
          "output_type": "display_data"
        },
        {
          "name": "stdout",
          "output_type": "stream",
          "text": [
            "\n",
            "Target Class Distribution:\n",
            "1    526\n",
            "0    499\n",
            "Name: target, dtype: int64\n"
          ]
        }
      ],
      "source": [
        "#A (Basic Infromation And Statistical Summary)\n",
        "print(\"Information: \\n\",dataset.info())\n",
        "print(\"\\n\\nStatistica Summary: \\n\",dataset.describe())\n",
        "\n",
        "# Feature distributions\n",
        "sns.set(style=\"whitegrid\")\n",
        "plt.figure(figsize=(10, 8))\n",
        "dataset.hist(bins=20, figsize=(10, 10), layout=(6, 6), edgecolor=\"black\")\n",
        "plt.tight_layout()\n",
        "plt.show()\n",
        "\n",
        "# Target Class Distribution\n",
        "print(\"\\nTarget Class Distribution:\")\n",
        "print(dataset['target'].value_counts())"
      ]
    },
    {
      "cell_type": "code",
      "execution_count": null,
      "metadata": {
        "id": "x5jCZPWxx9Ph",
        "outputId": "24aba0f1-0471-4e87-ecf2-6a00f04adbeb"
      },
      "outputs": [
        {
          "name": "stdout",
          "output_type": "stream",
          "text": [
            "No missing values in the dataset.\n",
            "\n",
            "Duplicate Records:\n",
            " 723\n",
            "Dataset After Removing Duplicates:       age  sex  cp  trestbps  chol  fbs  restecg  thalach  exang  oldpeak  \\\n",
            "0     52    1   0       125   212    0        1      168      0      1.0   \n",
            "1     53    1   0       140   203    1        0      155      1      3.1   \n",
            "2     70    1   0       145   174    0        1      125      1      2.6   \n",
            "3     61    1   0       148   203    0        1      161      0      0.0   \n",
            "4     62    0   0       138   294    1        1      106      0      1.9   \n",
            "..   ...  ...  ..       ...   ...  ...      ...      ...    ...      ...   \n",
            "723   68    0   2       120   211    0        0      115      0      1.5   \n",
            "733   44    0   2       108   141    0        1      175      0      0.6   \n",
            "739   52    1   0       128   255    0        1      161      1      0.0   \n",
            "843   59    1   3       160   273    0        0      125      0      0.0   \n",
            "878   54    1   0       120   188    0        1      113      0      1.4   \n",
            "\n",
            "     slope  ca  thal  target  \n",
            "0        2   2     3       0  \n",
            "1        0   0     3       0  \n",
            "2        0   0     3       0  \n",
            "3        2   1     3       0  \n",
            "4        1   3     2       0  \n",
            "..     ...  ..   ...     ...  \n",
            "723      1   0     2       1  \n",
            "733      1   0     2       1  \n",
            "739      2   1     3       0  \n",
            "843      2   0     2       0  \n",
            "878      1   1     3       0  \n",
            "\n",
            "[302 rows x 14 columns]\n",
            "\n",
            "Categorical Features:\n",
            " Index([], dtype='object')\n",
            "      age  sex  cp  trestbps  chol  fbs  restecg  thalach  exang  oldpeak  \\\n",
            "0      52    1   0       125   212    0        1      168      0      1.0   \n",
            "1      53    1   0       140   203    1        0      155      1      3.1   \n",
            "2      70    1   0       145   174    0        1      125      1      2.6   \n",
            "3      61    1   0       148   203    0        1      161      0      0.0   \n",
            "4      62    0   0       138   294    1        1      106      0      1.9   \n",
            "...   ...  ...  ..       ...   ...  ...      ...      ...    ...      ...   \n",
            "1020   59    1   1       140   221    0        1      164      1      0.0   \n",
            "1021   60    1   0       125   258    0        0      141      1      2.8   \n",
            "1022   47    1   0       110   275    0        0      118      1      1.0   \n",
            "1023   50    0   0       110   254    0        0      159      0      0.0   \n",
            "1024   54    1   0       120   188    0        1      113      0      1.4   \n",
            "\n",
            "      slope  ca  thal  target  \n",
            "0         2   2     3       0  \n",
            "1         0   0     3       0  \n",
            "2         0   0     3       0  \n",
            "3         2   1     3       0  \n",
            "4         1   3     2       0  \n",
            "...     ...  ..   ...     ...  \n",
            "1020      2   0     2       1  \n",
            "1021      1   1     3       0  \n",
            "1022      1   1     2       0  \n",
            "1023      2   0     2       1  \n",
            "1024      1   1     3       0  \n",
            "\n",
            "[1025 rows x 14 columns]\n"
          ]
        }
      ],
      "source": [
        "if dataset.isnull().values.any():\n",
        "    missingValues = dataset.isnull().sum()\n",
        "    print(\"Missing Values:\\n\", missingValues)\n",
        "\n",
        "    cleanedDataset = dataset.fillna(dataset.mean())\n",
        "    print(\"Dataset After Removing Missing Values: \", cleanedDataset)\n",
        "else:\n",
        "    print(\"No missing values in the dataset.\")\n",
        "\n",
        "\n",
        "if dataset.duplicated().any():\n",
        "    duplicateRecords = dataset.duplicated().sum()\n",
        "    print(\"\\nDuplicate Records:\\n\", duplicateRecords)\n",
        "\n",
        "    cleanedDataset = dataset.drop_duplicates()\n",
        "    print(\"Dataset After Removing Duplicates: \", cleanedDataset)\n",
        "else:\n",
        "    print(\"No duplicate records in the dataset.\")\n",
        "\n",
        "categoricalFeatures = dataset.select_dtypes(include=['object']).columns\n",
        "print(\"\\nCategorical Features:\\n\", categoricalFeatures)\n",
        "#Here No Categirical Feature Exists!!\n",
        "print(dataset)"
      ]
    },
    {
      "cell_type": "code",
      "execution_count": null,
      "metadata": {
        "id": "lPCXt0H8x9Pj",
        "outputId": "cf38283b-7de5-4367-dbd2-2defae21b7ae"
      },
      "outputs": [
        {
          "name": "stdout",
          "output_type": "stream",
          "text": [
            "<class 'pandas.core.frame.DataFrame'>\n",
            "RangeIndex: 1025 entries, 0 to 1024\n",
            "Data columns (total 14 columns):\n",
            " #   Column    Non-Null Count  Dtype  \n",
            "---  ------    --------------  -----  \n",
            " 0   age       1025 non-null   int64  \n",
            " 1   sex       1025 non-null   int64  \n",
            " 2   cp        1025 non-null   int64  \n",
            " 3   trestbps  1025 non-null   int64  \n",
            " 4   chol      1025 non-null   int64  \n",
            " 5   fbs       1025 non-null   int64  \n",
            " 6   restecg   1025 non-null   int64  \n",
            " 7   thalach   1025 non-null   int64  \n",
            " 8   exang     1025 non-null   int64  \n",
            " 9   oldpeak   1025 non-null   float64\n",
            " 10  slope     1025 non-null   int64  \n",
            " 11  ca        1025 non-null   int64  \n",
            " 12  thal      1025 non-null   int64  \n",
            " 13  target    1025 non-null   int64  \n",
            "dtypes: float64(1), int64(13)\n",
            "memory usage: 112.2 KB\n"
          ]
        }
      ],
      "source": [
        "dataset.info()"
      ]
    },
    {
      "cell_type": "code",
      "execution_count": null,
      "metadata": {
        "id": "xNV3PXbPx9Pk"
      },
      "outputs": [],
      "source": [
        "#SPlitting\n",
        "x = dataset.drop('target', axis = 1)\n",
        "y = dataset['target']\n",
        "\n",
        "X_train, X_test, Y_train, Y_test = train_test_split(x, y, test_size=0.1, random_state=0)\n",
        "\n",
        "trainAccuracies = []\n",
        "testAccuracies = []"
      ]
    },
    {
      "cell_type": "code",
      "execution_count": null,
      "metadata": {
        "id": "46hLViklx9Pm",
        "outputId": "b6ac96e9-52a3-41a6-a9ec-2e8494dd6797"
      },
      "outputs": [
        {
          "name": "stdout",
          "output_type": "stream",
          "text": [
            "=================PART B (PENALTY = L1)=================\n",
            "\n",
            "Training Accuracy : 0.85\n",
            "Testing Accuracy  : 0.83\n"
          ]
        }
      ],
      "source": [
        "print(\"=================PART B (PENALTY = L1)=================\\n\")\n",
        "LR = LogisticRegression(penalty='l1',solver='liblinear')\n",
        "\n",
        "modelLR = LR.fit(X_train,Y_train)\n",
        "prediction = modelLR.predict(X_test)\n",
        "\n",
        "accTrain = LR.score(X_train,Y_train)\n",
        "print(f\"Training Accuracy : {accTrain.round(2)}\")\n",
        "\n",
        "accTest = accuracy_score(Y_test,prediction)\n",
        "print(f\"Testing Accuracy  : {accTest.round(2)}\")\n",
        "\n",
        "trainAccuracies.append(accTrain)\n",
        "testAccuracies.append(accTest)"
      ]
    },
    {
      "cell_type": "code",
      "execution_count": null,
      "metadata": {
        "id": "w95CvWycx9Pn",
        "outputId": "c9e58c5c-7b80-4295-8a54-e1517d4a2900"
      },
      "outputs": [
        {
          "name": "stdout",
          "output_type": "stream",
          "text": [
            "=================PART C (PENALTY = L2)=================\n",
            "\n",
            "Training Accuracy : 0.85\n",
            "Testing Accuracy  : 0.83\n"
          ]
        }
      ],
      "source": [
        "print(\"=================PART C (PENALTY = L2)=================\\n\")\n",
        "LR = LogisticRegression(penalty='l2',solver='liblinear')\n",
        "\n",
        "modelLR = LR.fit(X_train,Y_train)\n",
        "prediction = modelLR.predict(X_test)\n",
        "\n",
        "accTrain = LR.score(X_train,Y_train)\n",
        "print(f\"Training Accuracy : {accTrain.round(2)}\")\n",
        "\n",
        "accTest = accuracy_score(Y_test,prediction)\n",
        "print(f\"Testing Accuracy  : {accTest.round(2)}\")\n",
        "trainAccuracies.append(accTrain)\n",
        "testAccuracies.append(accTest)"
      ]
    },
    {
      "cell_type": "code",
      "execution_count": null,
      "metadata": {
        "id": "DJ20tj9Tx9Po",
        "outputId": "f08d3449-7858-48d8-de5b-8c98a214eb7d"
      },
      "outputs": [
        {
          "name": "stdout",
          "output_type": "stream",
          "text": [
            "=================PART D (PENALTY = elasticnet)=================\n",
            "\n",
            "Training Accuracy : 0.85\n",
            "Testing Accuracy  : 0.84\n"
          ]
        }
      ],
      "source": [
        "print(\"=================PART D (PENALTY = elasticnet)=================\\n\")\n",
        "LR = LogisticRegression(penalty='elasticnet',solver='saga',l1_ratio=0.5,max_iter=10000)\n",
        "\n",
        "modelLR = LR.fit(X_train,Y_train)\n",
        "prediction = modelLR.predict(X_test)\n",
        "\n",
        "accTrain = LR.score(X_train,Y_train)\n",
        "print(f\"Training Accuracy : {accTrain.round(2)}\")\n",
        "\n",
        "accTest = accuracy_score(Y_test,prediction)\n",
        "print(f\"Testing Accuracy  : {accTest.round(2)}\")\n",
        "\n",
        "trainAccuracies.append(accTrain)\n",
        "testAccuracies.append(accTest)"
      ]
    },
    {
      "cell_type": "code",
      "execution_count": null,
      "metadata": {
        "id": "So1PO5nMx9Pp",
        "outputId": "c89ff0ae-9a3d-4084-9266-1aca831f184a"
      },
      "outputs": [
        {
          "data": {
            "image/png": "[encoded data removed]",
            "text/plain": [
              "<Figure size 640x480 with 1 Axes>"
            ]
          },
          "metadata": {},
          "output_type": "display_data"
        }
      ],
      "source": [
        "#E\n",
        "\n",
        "LR_Panelties = ['l1','l2','elasticnet']\n",
        "bar_width = 0.35\n",
        "\n",
        "r1 = np.arange(len(LR_Panelties))\n",
        "r2 = [x + bar_width for x in r1]\n",
        "\n",
        "plt.bar(r1, trainAccuracies, color='maroon', width=bar_width, edgecolor='grey', label='Training Accuracy')\n",
        "plt.bar(r2, testAccuracies, color='blue', width=bar_width, edgecolor='grey', label='Testing Accuracy')\n",
        "\n",
        "plt.xlabel('Penelties', fontweight='bold')\n",
        "plt.xticks([r + bar_width / 2 for r in r1], LR_Panelties)\n",
        "plt.ylabel('Accuracy')\n",
        "plt.title('Training and Testing Accuracy')\n",
        "plt.legend()\n",
        "plt.tight_layout()\n",
        "plt.show()\n"
      ]
    },
    {
      "cell_type": "code",
      "execution_count": null,
      "metadata": {
        "id": "aVub-Wtnx9Pq"
      },
      "outputs": [],
      "source": [
        "#F\n",
        "\n",
        "# I had encountered error while applyng penalities without defining solver, after solver defination error was resolved!!\n",
        "# I adjusted max_iter parameter to remove warning (Was not Converging) and improved accuracy!!"
      ]
    },
    {
      "cell_type": "code",
      "execution_count": null,
      "metadata": {
        "id": "CWNuZPnPx9Pr"
      },
      "outputs": [],
      "source": [
        "#G\n",
        "\n",
        "#I used solver additionally!! without defining solver there was occuring an error!!"
      ]
    },
    {
      "cell_type": "markdown",
      "metadata": {
        "id": "oogLwFTLx9Pr"
      },
      "source": [
        "# Task 02"
      ]
    },
    {
      "cell_type": "code",
      "execution_count": null,
      "metadata": {
        "id": "-seLQIFzx9Pr",
        "outputId": "38a711d1-7287-457c-8da4-4f7b77ee8e8c"
      },
      "outputs": [
        {
          "data": {
            "text/html": [
              "<div>\n",
              "<style scoped>\n",
              "    .dataframe tbody tr th:only-of-type {\n",
              "        vertical-align: middle;\n",
              "    }\n",
              "\n",
              "    .dataframe tbody tr th {\n",
              "        vertical-align: top;\n",
              "    }\n",
              "\n",
              "    .dataframe thead th {\n",
              "        text-align: right;\n",
              "    }\n",
              "</style>\n",
              "<table border=\"1\" class=\"dataframe\">\n",
              "  <thead>\n",
              "    <tr style=\"text-align: right;\">\n",
              "      <th></th>\n",
              "      <th>Id</th>\n",
              "      <th>SepalLengthCm</th>\n",
              "      <th>SepalWidthCm</th>\n",
              "      <th>PetalLengthCm</th>\n",
              "      <th>PetalWidthCm</th>\n",
              "      <th>Species</th>\n",
              "    </tr>\n",
              "  </thead>\n",
              "  <tbody>\n",
              "    <tr>\n",
              "      <th>0</th>\n",
              "      <td>1</td>\n",
              "      <td>5.1</td>\n",
              "      <td>3.5</td>\n",
              "      <td>1.4</td>\n",
              "      <td>0.2</td>\n",
              "      <td>Iris-setosa</td>\n",
              "    </tr>\n",
              "    <tr>\n",
              "      <th>1</th>\n",
              "      <td>2</td>\n",
              "      <td>4.9</td>\n",
              "      <td>3.0</td>\n",
              "      <td>1.4</td>\n",
              "      <td>0.2</td>\n",
              "      <td>Iris-setosa</td>\n",
              "    </tr>\n",
              "    <tr>\n",
              "      <th>2</th>\n",
              "      <td>3</td>\n",
              "      <td>4.7</td>\n",
              "      <td>3.2</td>\n",
              "      <td>1.3</td>\n",
              "      <td>0.2</td>\n",
              "      <td>Iris-setosa</td>\n",
              "    </tr>\n",
              "    <tr>\n",
              "      <th>3</th>\n",
              "      <td>4</td>\n",
              "      <td>4.6</td>\n",
              "      <td>3.1</td>\n",
              "      <td>1.5</td>\n",
              "      <td>0.2</td>\n",
              "      <td>Iris-setosa</td>\n",
              "    </tr>\n",
              "    <tr>\n",
              "      <th>4</th>\n",
              "      <td>5</td>\n",
              "      <td>5.0</td>\n",
              "      <td>3.6</td>\n",
              "      <td>1.4</td>\n",
              "      <td>0.2</td>\n",
              "      <td>Iris-setosa</td>\n",
              "    </tr>\n",
              "  </tbody>\n",
              "</table>\n",
              "</div>"
            ],
            "text/plain": [
              "   Id  SepalLengthCm  SepalWidthCm  PetalLengthCm  PetalWidthCm      Species\n",
              "0   1            5.1           3.5            1.4           0.2  Iris-setosa\n",
              "1   2            4.9           3.0            1.4           0.2  Iris-setosa\n",
              "2   3            4.7           3.2            1.3           0.2  Iris-setosa\n",
              "3   4            4.6           3.1            1.5           0.2  Iris-setosa\n",
              "4   5            5.0           3.6            1.4           0.2  Iris-setosa"
            ]
          },
          "execution_count": 17,
          "metadata": {},
          "output_type": "execute_result"
        }
      ],
      "source": [
        "irisDataset = pd.read_csv('Iris.csv')\n",
        "irisDataset.head()"
      ]
    },
    {
      "cell_type": "code",
      "execution_count": null,
      "metadata": {
        "id": "vb-wIYZIx9Pr"
      },
      "outputs": [],
      "source": [
        "X = irisDataset.drop('Species',axis=1)\n",
        "Y = irisDataset['Species']\n",
        "\n",
        "X_train, X_test, Y_train, Y_test = train_test_split(X,Y, test_size=0.6, random_state=42)\n",
        "\n",
        "trainAccuracies = []\n",
        "testAccuracies = []"
      ]
    },
    {
      "cell_type": "code",
      "execution_count": null,
      "metadata": {
        "id": "puO3tLlVx9Ps",
        "outputId": "8750be3b-ed1a-4c90-e950-c3949706b0ef"
      },
      "outputs": [
        {
          "name": "stdout",
          "output_type": "stream",
          "text": [
            "=================(Solver = saga)=================\n",
            "\n",
            "Training Accuracy : 0.93\n",
            "Testing Accuracy  : 0.96\n"
          ]
        }
      ],
      "source": [
        "print(\"=================(Solver = saga)=================\\n\")\n",
        "LR = LogisticRegression(penalty='elasticnet',solver='saga',l1_ratio=0.3,max_iter=10000)\n",
        "\n",
        "modelLR = LR.fit(X_train,Y_train)\n",
        "prediction = modelLR.predict(X_test)\n",
        "\n",
        "accTrain = LR.score(X_train,Y_train)\n",
        "print(f\"Training Accuracy : {accTrain.round(2)}\")\n",
        "\n",
        "accTest = accuracy_score(Y_test,prediction)\n",
        "print(f\"Testing Accuracy  : {accTest.round(2)}\")\n",
        "\n",
        "trainAccuracies.append(accTrain)\n",
        "testAccuracies.append(accTest)"
      ]
    },
    {
      "cell_type": "code",
      "execution_count": null,
      "metadata": {
        "id": "WU9p59P_x9Ps",
        "outputId": "e99be007-d126-4b00-d66e-e34e182ffe85"
      },
      "outputs": [
        {
          "name": "stdout",
          "output_type": "stream",
          "text": [
            "=================(Solver = sag)=================\n",
            "\n",
            "Training Accuracy : 0.97\n",
            "Testing Accuracy  : 0.97\n"
          ]
        },
        {
          "name": "stderr",
          "output_type": "stream",
          "text": [
            "c:\\ProgramData\\anaconda3\\Lib\\site-packages\\sklearn\\linear_model\\_logistic.py:1165: UserWarning: l1_ratio parameter is only used when penalty is 'elasticnet'. Got (penalty=l2)\n",
            "  warnings.warn(\n"
          ]
        }
      ],
      "source": [
        "print(\"=================(Solver = sag)=================\\n\")\n",
        "LR = LogisticRegression(penalty='l2',solver='sag',l1_ratio=0.3,max_iter=10000)\n",
        "\n",
        "modelLR = LR.fit(X_train,Y_train)\n",
        "prediction = modelLR.predict(X_test)\n",
        "\n",
        "accTrain = LR.score(X_train,Y_train)\n",
        "print(f\"Training Accuracy : {accTrain.round(2)}\")\n",
        "\n",
        "accTest = accuracy_score(Y_test,prediction)\n",
        "print(f\"Testing Accuracy  : {accTest.round(2)}\")\n",
        "\n",
        "trainAccuracies.append(accTrain)\n",
        "testAccuracies.append(accTest)"
      ]
    },
    {
      "cell_type": "code",
      "execution_count": null,
      "metadata": {
        "id": "MRT3I5Z_x9Ps",
        "outputId": "18e080fb-44bf-4469-c11e-c521e83f715f"
      },
      "outputs": [
        {
          "name": "stdout",
          "output_type": "stream",
          "text": [
            "=================(Solver = newton-cholesky)=================\n",
            "\n",
            "Training Accuracy : 0.98\n",
            "Testing Accuracy  : 1.0\n"
          ]
        },
        {
          "name": "stderr",
          "output_type": "stream",
          "text": [
            "c:\\ProgramData\\anaconda3\\Lib\\site-packages\\sklearn\\linear_model\\_logistic.py:1165: UserWarning: l1_ratio parameter is only used when penalty is 'elasticnet'. Got (penalty=l2)\n",
            "  warnings.warn(\n"
          ]
        }
      ],
      "source": [
        "print(\"=================(Solver = newton-cholesky)=================\\n\")\n",
        "LR = LogisticRegression(penalty='l2',solver='newton-cholesky',l1_ratio=0.3,max_iter=100000)\n",
        "\n",
        "modelLR = LR.fit(X_train,Y_train)\n",
        "prediction = modelLR.predict(X_test)\n",
        "\n",
        "accTrain = LR.score(X_train,Y_train)\n",
        "print(f\"Training Accuracy : {accTrain.round(2)}\")\n",
        "\n",
        "accTest = accuracy_score(Y_test,prediction)\n",
        "print(f\"Testing Accuracy  : {accTest.round(2)}\")\n",
        "\n",
        "trainAccuracies.append(accTrain)\n",
        "testAccuracies.append(accTest)"
      ]
    },
    {
      "cell_type": "code",
      "execution_count": null,
      "metadata": {
        "id": "sTDBgPGpx9Ps",
        "outputId": "cbecf092-061a-449f-ad2b-eb01eb55b48c"
      },
      "outputs": [
        {
          "name": "stdout",
          "output_type": "stream",
          "text": [
            "=================(Solver = newton-cg)=================\n",
            "\n"
          ]
        },
        {
          "name": "stderr",
          "output_type": "stream",
          "text": [
            "c:\\ProgramData\\anaconda3\\Lib\\site-packages\\sklearn\\linear_model\\_logistic.py:1165: UserWarning: l1_ratio parameter is only used when penalty is 'elasticnet'. Got (penalty=l2)\n",
            "  warnings.warn(\n"
          ]
        },
        {
          "name": "stdout",
          "output_type": "stream",
          "text": [
            "Training Accuracy : 1.0\n",
            "Testing Accuracy  : 1.0\n"
          ]
        }
      ],
      "source": [
        "print(\"=================(Solver = newton-cg)=================\\n\")\n",
        "LR = LogisticRegression(penalty='l2',solver='newton-cg',l1_ratio=0.3,max_iter=1000)\n",
        "\n",
        "modelLR = LR.fit(X_train,Y_train)\n",
        "prediction = modelLR.predict(X_test)\n",
        "\n",
        "accTrain = LR.score(X_train,Y_train)\n",
        "print(f\"Training Accuracy : {accTrain.round(2)}\")\n",
        "\n",
        "accTest = accuracy_score(Y_test,prediction)\n",
        "print(f\"Testing Accuracy  : {accTest.round(2)}\")\n",
        "\n",
        "trainAccuracies.append(accTrain)\n",
        "testAccuracies.append(accTest)"
      ]
    },
    {
      "cell_type": "code",
      "execution_count": null,
      "metadata": {
        "id": "FYQEilytx9Pt",
        "outputId": "d70e4212-69ba-469f-d2d7-2f52f097b128"
      },
      "outputs": [
        {
          "name": "stdout",
          "output_type": "stream",
          "text": [
            "=================(Solver = liblinear)=================\n",
            "\n",
            "Training Accuracy : 0.9\n",
            "Testing Accuracy  : 0.93\n"
          ]
        },
        {
          "name": "stderr",
          "output_type": "stream",
          "text": [
            "c:\\ProgramData\\anaconda3\\Lib\\site-packages\\sklearn\\linear_model\\_logistic.py:1165: UserWarning: l1_ratio parameter is only used when penalty is 'elasticnet'. Got (penalty=l1)\n",
            "  warnings.warn(\n"
          ]
        }
      ],
      "source": [
        "print(\"=================(Solver = liblinear)=================\\n\")\n",
        "LR = LogisticRegression(penalty='l1',solver='liblinear',l1_ratio=0.5,max_iter=100000)\n",
        "\n",
        "modelLR = LR.fit(X_train,Y_train)\n",
        "prediction = modelLR.predict(X_test)\n",
        "\n",
        "accTrain = LR.score(X_train,Y_train)\n",
        "print(f\"Training Accuracy : {accTrain.round(2)}\")\n",
        "\n",
        "accTest = accuracy_score(Y_test,prediction)\n",
        "print(f\"Testing Accuracy  : {accTest.round(2)}\")\n",
        "\n",
        "trainAccuracies.append(accTrain)\n",
        "testAccuracies.append(accTest)"
      ]
    },
    {
      "cell_type": "code",
      "execution_count": null,
      "metadata": {
        "id": "A21MHZkjx9Pt",
        "outputId": "c991262c-9b9f-43cd-a2d2-7a93d5b8c25b"
      },
      "outputs": [
        {
          "name": "stdout",
          "output_type": "stream",
          "text": [
            "=================(Solver = lbfgs)=================\n",
            "\n",
            "Training Accuracy : 1.0\n",
            "Testing Accuracy  : 1.0\n"
          ]
        },
        {
          "name": "stderr",
          "output_type": "stream",
          "text": [
            "c:\\ProgramData\\anaconda3\\Lib\\site-packages\\sklearn\\linear_model\\_logistic.py:1165: UserWarning: l1_ratio parameter is only used when penalty is 'elasticnet'. Got (penalty=l2)\n",
            "  warnings.warn(\n"
          ]
        }
      ],
      "source": [
        "print(\"=================(Solver = lbfgs)=================\\n\")\n",
        "LR = LogisticRegression(penalty='l2',solver='lbfgs',l1_ratio=0.5,max_iter=100000)\n",
        "\n",
        "modelLR = LR.fit(X_train,Y_train)\n",
        "prediction = modelLR.predict(X_test)\n",
        "\n",
        "accTrain = LR.score(X_train,Y_train)\n",
        "print(f\"Training Accuracy : {accTrain.round(2)}\")\n",
        "\n",
        "accTest = accuracy_score(Y_test,prediction)\n",
        "print(f\"Testing Accuracy  : {accTest.round(2)}\")\n",
        "\n",
        "trainAccuracies.append(accTrain)\n",
        "testAccuracies.append(accTest)"
      ]
    },
    {
      "cell_type": "code",
      "execution_count": null,
      "metadata": {
        "id": "QnPUvCk5x9Pt",
        "outputId": "4302cbcb-8c74-426e-e8ba-7fe1e6f3681d"
      },
      "outputs": [
        {
          "data": {
            "image/png": "[encoded data removed]",
            "text/plain": [
              "<Figure size 640x480 with 1 Axes>"
            ]
          },
          "metadata": {},
          "output_type": "display_data"
        }
      ],
      "source": [
        "solvers = ['saga','sag','newton-cholesky','newton-cg','liblinear','lbfgs']\n",
        "\n",
        "bar_width = 0.35\n",
        "\n",
        "r1 = np.arange(len(solvers))\n",
        "r2 = [x + bar_width for x in r1]\n",
        "\n",
        "plt.bar(r1, trainAccuracies, color='red', width=bar_width, edgecolor='grey', label='Training Accuracy')\n",
        "plt.bar(r2, testAccuracies, color='black', width=bar_width, edgecolor='grey', label='Testing Accuracy')\n",
        "\n",
        "plt.xlabel('Penelties', fontweight='bold')\n",
        "plt.xticks([r + bar_width / 2 for r in r1], solvers)\n",
        "plt.ylabel('Accuracy')\n",
        "plt.title('Training and Testing Accuracy')\n",
        "plt.legend()\n",
        "plt.tight_layout()\n",
        "plt.show()\n"
      ]
    },
    {
      "cell_type": "code",
      "execution_count": null,
      "metadata": {
        "id": "hyCQ2o0ox9Pu"
      },
      "outputs": [],
      "source": [
        "#lbfgs,newton-cg and sag solvers performing best in my case!!"
      ]
    },
    {
      "cell_type": "code",
      "execution_count": null,
      "metadata": {
        "id": "oeKlqJJvx9Pu",
        "outputId": "388af18a-7a88-4f6f-ce8e-a7635acba711"
      },
      "outputs": [
        {
          "data": {
            "text/html": [
              "<div>\n",
              "<style scoped>\n",
              "    .dataframe tbody tr th:only-of-type {\n",
              "        vertical-align: middle;\n",
              "    }\n",
              "\n",
              "    .dataframe tbody tr th {\n",
              "        vertical-align: top;\n",
              "    }\n",
              "\n",
              "    .dataframe thead th {\n",
              "        text-align: right;\n",
              "    }\n",
              "</style>\n",
              "<table border=\"1\" class=\"dataframe\">\n",
              "  <thead>\n",
              "    <tr style=\"text-align: right;\">\n",
              "      <th></th>\n",
              "      <th>age</th>\n",
              "      <th>sex</th>\n",
              "      <th>cp</th>\n",
              "      <th>trestbps</th>\n",
              "      <th>chol</th>\n",
              "      <th>fbs</th>\n",
              "      <th>restecg</th>\n",
              "      <th>thalach</th>\n",
              "      <th>exang</th>\n",
              "      <th>oldpeak</th>\n",
              "      <th>slope</th>\n",
              "      <th>ca</th>\n",
              "      <th>thal</th>\n",
              "      <th>target</th>\n",
              "    </tr>\n",
              "  </thead>\n",
              "  <tbody>\n",
              "    <tr>\n",
              "      <th>0</th>\n",
              "      <td>52</td>\n",
              "      <td>1</td>\n",
              "      <td>0</td>\n",
              "      <td>125</td>\n",
              "      <td>212</td>\n",
              "      <td>0</td>\n",
              "      <td>1</td>\n",
              "      <td>168</td>\n",
              "      <td>0</td>\n",
              "      <td>1.0</td>\n",
              "      <td>2</td>\n",
              "      <td>2</td>\n",
              "      <td>3</td>\n",
              "      <td>0</td>\n",
              "    </tr>\n",
              "    <tr>\n",
              "      <th>1</th>\n",
              "      <td>53</td>\n",
              "      <td>1</td>\n",
              "      <td>0</td>\n",
              "      <td>140</td>\n",
              "      <td>203</td>\n",
              "      <td>1</td>\n",
              "      <td>0</td>\n",
              "      <td>155</td>\n",
              "      <td>1</td>\n",
              "      <td>3.1</td>\n",
              "      <td>0</td>\n",
              "      <td>0</td>\n",
              "      <td>3</td>\n",
              "      <td>0</td>\n",
              "    </tr>\n",
              "    <tr>\n",
              "      <th>2</th>\n",
              "      <td>70</td>\n",
              "      <td>1</td>\n",
              "      <td>0</td>\n",
              "      <td>145</td>\n",
              "      <td>174</td>\n",
              "      <td>0</td>\n",
              "      <td>1</td>\n",
              "      <td>125</td>\n",
              "      <td>1</td>\n",
              "      <td>2.6</td>\n",
              "      <td>0</td>\n",
              "      <td>0</td>\n",
              "      <td>3</td>\n",
              "      <td>0</td>\n",
              "    </tr>\n",
              "    <tr>\n",
              "      <th>3</th>\n",
              "      <td>61</td>\n",
              "      <td>1</td>\n",
              "      <td>0</td>\n",
              "      <td>148</td>\n",
              "      <td>203</td>\n",
              "      <td>0</td>\n",
              "      <td>1</td>\n",
              "      <td>161</td>\n",
              "      <td>0</td>\n",
              "      <td>0.0</td>\n",
              "      <td>2</td>\n",
              "      <td>1</td>\n",
              "      <td>3</td>\n",
              "      <td>0</td>\n",
              "    </tr>\n",
              "    <tr>\n",
              "      <th>4</th>\n",
              "      <td>62</td>\n",
              "      <td>0</td>\n",
              "      <td>0</td>\n",
              "      <td>138</td>\n",
              "      <td>294</td>\n",
              "      <td>1</td>\n",
              "      <td>1</td>\n",
              "      <td>106</td>\n",
              "      <td>0</td>\n",
              "      <td>1.9</td>\n",
              "      <td>1</td>\n",
              "      <td>3</td>\n",
              "      <td>2</td>\n",
              "      <td>0</td>\n",
              "    </tr>\n",
              "  </tbody>\n",
              "</table>\n",
              "</div>"
            ],
            "text/plain": [
              "   age  sex  cp  trestbps  chol  fbs  restecg  thalach  exang  oldpeak  slope  \\\n",
              "0   52    1   0       125   212    0        1      168      0      1.0      2   \n",
              "1   53    1   0       140   203    1        0      155      1      3.1      0   \n",
              "2   70    1   0       145   174    0        1      125      1      2.6      0   \n",
              "3   61    1   0       148   203    0        1      161      0      0.0      2   \n",
              "4   62    0   0       138   294    1        1      106      0      1.9      1   \n",
              "\n",
              "   ca  thal  target  \n",
              "0   2     3       0  \n",
              "1   0     3       0  \n",
              "2   0     3       0  \n",
              "3   1     3       0  \n",
              "4   3     2       0  "
            ]
          },
          "execution_count": 27,
          "metadata": {},
          "output_type": "execute_result"
        }
      ],
      "source": [
        "dataset = pd.read_csv('heart.csv')\n",
        "dataset.head()\n"
      ]
    },
    {
      "cell_type": "code",
      "execution_count": null,
      "metadata": {
        "id": "94f-xJr9x9Pu"
      },
      "outputs": [],
      "source": [
        "x = dataset.drop('target', axis = 1)\n",
        "y = dataset['target']\n",
        "\n",
        "X_train, X_test, Y_train, Y_test = train_test_split(x, y, test_size=0.1, random_state=0)\n",
        "\n",
        "trainAccuracies = []\n",
        "testAccuracies = []"
      ]
    },
    {
      "cell_type": "code",
      "execution_count": null,
      "metadata": {
        "id": "HBLu_L-gx9Pv",
        "outputId": "b2ab0ba3-26ee-4e36-a744-34e2120674ce"
      },
      "outputs": [
        {
          "name": "stdout",
          "output_type": "stream",
          "text": [
            "=================(Solver = saga)=================\n",
            "\n",
            "Training Accuracy : 0.85\n",
            "Testing Accuracy  : 0.84\n"
          ]
        }
      ],
      "source": [
        "print(\"=================(Solver = saga)=================\\n\")\n",
        "LR = LogisticRegression(penalty='elasticnet',solver='saga',l1_ratio=0.3,max_iter=10000)\n",
        "\n",
        "modelLR = LR.fit(X_train,Y_train)\n",
        "prediction = modelLR.predict(X_test)\n",
        "\n",
        "accTrain = LR.score(X_train,Y_train)\n",
        "print(f\"Training Accuracy : {accTrain.round(2)}\")\n",
        "\n",
        "accTest = accuracy_score(Y_test,prediction)\n",
        "print(f\"Testing Accuracy  : {accTest.round(2)}\")\n",
        "\n",
        "trainAccuracies.append(accTrain)\n",
        "testAccuracies.append(accTest)"
      ]
    },
    {
      "cell_type": "code",
      "execution_count": null,
      "metadata": {
        "id": "xxtjoYf8x9Pv",
        "outputId": "1b849834-726a-4d1d-a3d0-a57fdfb222c9"
      },
      "outputs": [
        {
          "name": "stdout",
          "output_type": "stream",
          "text": [
            "=================(Solver = sag)=================\n",
            "\n"
          ]
        },
        {
          "name": "stderr",
          "output_type": "stream",
          "text": [
            "c:\\ProgramData\\anaconda3\\Lib\\site-packages\\sklearn\\linear_model\\_logistic.py:1165: UserWarning: l1_ratio parameter is only used when penalty is 'elasticnet'. Got (penalty=l2)\n",
            "  warnings.warn(\n"
          ]
        },
        {
          "name": "stdout",
          "output_type": "stream",
          "text": [
            "Training Accuracy : 0.85\n",
            "Testing Accuracy  : 0.83\n"
          ]
        }
      ],
      "source": [
        "print(\"=================(Solver = sag)=================\\n\")\n",
        "LR = LogisticRegression(penalty='l2',solver='sag',l1_ratio=0.3,max_iter=10000)\n",
        "\n",
        "modelLR = LR.fit(X_train,Y_train)\n",
        "prediction = modelLR.predict(X_test)\n",
        "\n",
        "accTrain = LR.score(X_train,Y_train)\n",
        "print(f\"Training Accuracy : {accTrain.round(2)}\")\n",
        "\n",
        "accTest = accuracy_score(Y_test,prediction)\n",
        "print(f\"Testing Accuracy  : {accTest.round(2)}\")\n",
        "\n",
        "trainAccuracies.append(accTrain)\n",
        "testAccuracies.append(accTest)"
      ]
    },
    {
      "cell_type": "code",
      "execution_count": null,
      "metadata": {
        "id": "0Cycwbncx9Pv",
        "outputId": "d65f20ac-e4d6-4daa-ce4f-0835e0035055"
      },
      "outputs": [
        {
          "name": "stdout",
          "output_type": "stream",
          "text": [
            "=================(Solver = newton-cholesky)=================\n",
            "\n",
            "Training Accuracy : 0.85\n",
            "Testing Accuracy  : 0.83\n"
          ]
        },
        {
          "name": "stderr",
          "output_type": "stream",
          "text": [
            "c:\\ProgramData\\anaconda3\\Lib\\site-packages\\sklearn\\linear_model\\_logistic.py:1165: UserWarning: l1_ratio parameter is only used when penalty is 'elasticnet'. Got (penalty=l2)\n",
            "  warnings.warn(\n"
          ]
        }
      ],
      "source": [
        "print(\"=================(Solver = newton-cholesky)=================\\n\")\n",
        "LR = LogisticRegression(penalty='l2',solver='newton-cholesky',l1_ratio=0.3,max_iter=100000)\n",
        "\n",
        "modelLR = LR.fit(X_train,Y_train)\n",
        "prediction = modelLR.predict(X_test)\n",
        "\n",
        "accTrain = LR.score(X_train,Y_train)\n",
        "print(f\"Training Accuracy : {accTrain.round(2)}\")\n",
        "\n",
        "accTest = accuracy_score(Y_test,prediction)\n",
        "print(f\"Testing Accuracy  : {accTest.round(2)}\")\n",
        "\n",
        "trainAccuracies.append(accTrain)\n",
        "testAccuracies.append(accTest)"
      ]
    },
    {
      "cell_type": "code",
      "execution_count": null,
      "metadata": {
        "id": "g-4fWZCRx9Pw",
        "outputId": "d4406dda-8d5b-4357-9b3c-66d2fe380655"
      },
      "outputs": [
        {
          "name": "stdout",
          "output_type": "stream",
          "text": [
            "=================(Solver = newton-cg)=================\n",
            "\n",
            "Training Accuracy : 0.85\n",
            "Testing Accuracy  : 0.83\n"
          ]
        },
        {
          "name": "stderr",
          "output_type": "stream",
          "text": [
            "c:\\ProgramData\\anaconda3\\Lib\\site-packages\\sklearn\\linear_model\\_logistic.py:1165: UserWarning: l1_ratio parameter is only used when penalty is 'elasticnet'. Got (penalty=l2)\n",
            "  warnings.warn(\n"
          ]
        }
      ],
      "source": [
        "print(\"=================(Solver = newton-cg)=================\\n\")\n",
        "LR = LogisticRegression(penalty='l2',solver='newton-cg',l1_ratio=0.3,max_iter=1000)\n",
        "\n",
        "modelLR = LR.fit(X_train,Y_train)\n",
        "prediction = modelLR.predict(X_test)\n",
        "\n",
        "accTrain = LR.score(X_train,Y_train)\n",
        "print(f\"Training Accuracy : {accTrain.round(2)}\")\n",
        "\n",
        "accTest = accuracy_score(Y_test,prediction)\n",
        "print(f\"Testing Accuracy  : {accTest.round(2)}\")\n",
        "\n",
        "trainAccuracies.append(accTrain)\n",
        "testAccuracies.append(accTest)"
      ]
    },
    {
      "cell_type": "code",
      "execution_count": null,
      "metadata": {
        "id": "-p-Yp1iox9Pw",
        "outputId": "9eb25a06-1e00-4b91-940e-a745c0d2b0bb"
      },
      "outputs": [
        {
          "name": "stdout",
          "output_type": "stream",
          "text": [
            "=================(Solver = liblinear)=================\n",
            "\n",
            "Training Accuracy : 0.85\n",
            "Testing Accuracy  : 0.83\n"
          ]
        },
        {
          "name": "stderr",
          "output_type": "stream",
          "text": [
            "c:\\ProgramData\\anaconda3\\Lib\\site-packages\\sklearn\\linear_model\\_logistic.py:1165: UserWarning: l1_ratio parameter is only used when penalty is 'elasticnet'. Got (penalty=l1)\n",
            "  warnings.warn(\n"
          ]
        }
      ],
      "source": [
        "print(\"=================(Solver = liblinear)=================\\n\")\n",
        "LR = LogisticRegression(penalty='l1',solver='liblinear',l1_ratio=0.5,max_iter=100000)\n",
        "\n",
        "modelLR = LR.fit(X_train,Y_train)\n",
        "prediction = modelLR.predict(X_test)\n",
        "\n",
        "accTrain = LR.score(X_train,Y_train)\n",
        "print(f\"Training Accuracy : {accTrain.round(2)}\")\n",
        "\n",
        "accTest = accuracy_score(Y_test,prediction)\n",
        "print(f\"Testing Accuracy  : {accTest.round(2)}\")\n",
        "\n",
        "trainAccuracies.append(accTrain)\n",
        "testAccuracies.append(accTest)"
      ]
    },
    {
      "cell_type": "code",
      "execution_count": null,
      "metadata": {
        "id": "gowzvKC1x9Pw",
        "outputId": "44b5a2a7-df7a-4883-b475-1f9c345619d1"
      },
      "outputs": [
        {
          "name": "stderr",
          "output_type": "stream",
          "text": [
            "c:\\ProgramData\\anaconda3\\Lib\\site-packages\\sklearn\\linear_model\\_logistic.py:1165: UserWarning: l1_ratio parameter is only used when penalty is 'elasticnet'. Got (penalty=l2)\n",
            "  warnings.warn(\n"
          ]
        },
        {
          "name": "stdout",
          "output_type": "stream",
          "text": [
            "=================(Solver = lbfgs)=================\n",
            "\n",
            "Training Accuracy : 0.85\n",
            "Testing Accuracy  : 0.83\n"
          ]
        }
      ],
      "source": [
        "print(\"=================(Solver = lbfgs)=================\\n\")\n",
        "LR = LogisticRegression(penalty='l2',solver='lbfgs',l1_ratio=0.5,max_iter=100000)\n",
        "\n",
        "modelLR = LR.fit(X_train,Y_train)\n",
        "prediction = modelLR.predict(X_test)\n",
        "\n",
        "accTrain = LR.score(X_train,Y_train)\n",
        "print(f\"Training Accuracy : {accTrain.round(2)}\")\n",
        "\n",
        "accTest = accuracy_score(Y_test,prediction)\n",
        "print(f\"Testing Accuracy  : {accTest.round(2)}\")\n",
        "\n",
        "trainAccuracies.append(accTrain)\n",
        "testAccuracies.append(accTest)"
      ]
    },
    {
      "cell_type": "code",
      "execution_count": null,
      "metadata": {
        "id": "3QaTH0ufx9Px",
        "outputId": "e336b2ac-e94e-4ecc-bc0b-4be000ffb0df"
      },
      "outputs": [
        {
          "data": {
            "image/png": "[encoded data removed]",
            "text/plain": [
              "<Figure size 640x480 with 1 Axes>"
            ]
          },
          "metadata": {},
          "output_type": "display_data"
        }
      ],
      "source": [
        "solvers = ['saga','sag','newton-cholesky','newton-cg','liblinear','lbfgs']\n",
        "\n",
        "bar_width = 0.35\n",
        "\n",
        "r1 = np.arange(len(solvers))\n",
        "r2 = [x + bar_width for x in r1]\n",
        "\n",
        "plt.bar(r1, trainAccuracies, color='red', width=bar_width, edgecolor='grey', label='Training Accuracy')\n",
        "plt.bar(r2, testAccuracies, color='black', width=bar_width, edgecolor='grey', label='Testing Accuracy')\n",
        "\n",
        "plt.xlabel('Penelties', fontweight='bold')\n",
        "plt.xticks([r + bar_width / 2 for r in r1], solvers)\n",
        "plt.ylabel('Accuracy')\n",
        "plt.title('Training and Testing Accuracy')\n",
        "plt.legend()\n",
        "plt.tight_layout()\n",
        "plt.show()\n"
      ]
    },
    {
      "cell_type": "markdown",
      "metadata": {
        "id": "rRDKvKFtx9Px"
      },
      "source": [
        "# Task 03"
      ]
    },
    {
      "cell_type": "code",
      "execution_count": null,
      "metadata": {
        "id": "6IZwidnwx9Px",
        "outputId": "30106c3b-f964-4ffe-925e-06bf82f3c6a1"
      },
      "outputs": [
        {
          "data": {
            "text/html": [
              "<div>\n",
              "<style scoped>\n",
              "    .dataframe tbody tr th:only-of-type {\n",
              "        vertical-align: middle;\n",
              "    }\n",
              "\n",
              "    .dataframe tbody tr th {\n",
              "        vertical-align: top;\n",
              "    }\n",
              "\n",
              "    .dataframe thead th {\n",
              "        text-align: right;\n",
              "    }\n",
              "</style>\n",
              "<table border=\"1\" class=\"dataframe\">\n",
              "  <thead>\n",
              "    <tr style=\"text-align: right;\">\n",
              "      <th></th>\n",
              "      <th>Id</th>\n",
              "      <th>SepalLengthCm</th>\n",
              "      <th>SepalWidthCm</th>\n",
              "      <th>PetalLengthCm</th>\n",
              "      <th>PetalWidthCm</th>\n",
              "      <th>Species</th>\n",
              "    </tr>\n",
              "  </thead>\n",
              "  <tbody>\n",
              "    <tr>\n",
              "      <th>0</th>\n",
              "      <td>1</td>\n",
              "      <td>5.1</td>\n",
              "      <td>3.5</td>\n",
              "      <td>1.4</td>\n",
              "      <td>0.2</td>\n",
              "      <td>Iris-setosa</td>\n",
              "    </tr>\n",
              "    <tr>\n",
              "      <th>1</th>\n",
              "      <td>2</td>\n",
              "      <td>4.9</td>\n",
              "      <td>3.0</td>\n",
              "      <td>1.4</td>\n",
              "      <td>0.2</td>\n",
              "      <td>Iris-setosa</td>\n",
              "    </tr>\n",
              "    <tr>\n",
              "      <th>2</th>\n",
              "      <td>3</td>\n",
              "      <td>4.7</td>\n",
              "      <td>3.2</td>\n",
              "      <td>1.3</td>\n",
              "      <td>0.2</td>\n",
              "      <td>Iris-setosa</td>\n",
              "    </tr>\n",
              "    <tr>\n",
              "      <th>3</th>\n",
              "      <td>4</td>\n",
              "      <td>4.6</td>\n",
              "      <td>3.1</td>\n",
              "      <td>1.5</td>\n",
              "      <td>0.2</td>\n",
              "      <td>Iris-setosa</td>\n",
              "    </tr>\n",
              "    <tr>\n",
              "      <th>4</th>\n",
              "      <td>5</td>\n",
              "      <td>5.0</td>\n",
              "      <td>3.6</td>\n",
              "      <td>1.4</td>\n",
              "      <td>0.2</td>\n",
              "      <td>Iris-setosa</td>\n",
              "    </tr>\n",
              "  </tbody>\n",
              "</table>\n",
              "</div>"
            ],
            "text/plain": [
              "   Id  SepalLengthCm  SepalWidthCm  PetalLengthCm  PetalWidthCm      Species\n",
              "0   1            5.1           3.5            1.4           0.2  Iris-setosa\n",
              "1   2            4.9           3.0            1.4           0.2  Iris-setosa\n",
              "2   3            4.7           3.2            1.3           0.2  Iris-setosa\n",
              "3   4            4.6           3.1            1.5           0.2  Iris-setosa\n",
              "4   5            5.0           3.6            1.4           0.2  Iris-setosa"
            ]
          },
          "execution_count": 36,
          "metadata": {},
          "output_type": "execute_result"
        }
      ],
      "source": [
        "dataset = pd.read_csv('iris.csv')\n",
        "dataset.head()\n"
      ]
    },
    {
      "cell_type": "code",
      "execution_count": null,
      "metadata": {
        "id": "Lvt1xff5x9Py"
      },
      "outputs": [],
      "source": [
        "X = irisDataset.drop('Species',axis=1)\n",
        "Y = irisDataset['Species']\n",
        "\n",
        "X_train, X_test, Y_train, Y_test = train_test_split(X,Y, test_size=0.6, random_state=42)\n",
        "\n",
        "trainAccuracies = []\n",
        "testAccuracies = []"
      ]
    },
    {
      "cell_type": "code",
      "execution_count": null,
      "metadata": {
        "id": "Ez8JkfSbx9Py",
        "outputId": "c24ad16e-f0ce-42f6-e0f2-49427b516e10"
      },
      "outputs": [
        {
          "name": "stdout",
          "output_type": "stream",
          "text": [
            "Logistic Regression Results:\n",
            "Training Accuracy: 0.9000\n",
            "Testing Accuracy: 0.9333\n"
          ]
        }
      ],
      "source": [
        "logReg = LogisticRegression(penalty='l1',solver='liblinear',max_iter=100000)\n",
        "\n",
        "#LR\n",
        "logReg.fit(X_train, Y_train)\n",
        "logregTrainPred = logReg.predict(X_train)\n",
        "logregTestPred = logReg.predict(X_test)\n",
        "\n",
        "logregTrainAcc = accuracy_score(Y_train, logregTrainPred)\n",
        "logregTestAcc = accuracy_score(Y_test, logregTestPred)\n",
        "\n",
        "print(\"Logistic Regression Results:\")\n",
        "print(f\"Training Accuracy: {logregTrainAcc:.4f}\")\n",
        "print(f\"Testing Accuracy: {logregTestAcc:.4f}\")"
      ]
    },
    {
      "cell_type": "code",
      "execution_count": null,
      "metadata": {
        "id": "WXsosiM2x9Py",
        "outputId": "7ec505e4-9d1d-46f3-91aa-559782bfd98d"
      },
      "outputs": [
        {
          "name": "stdout",
          "output_type": "stream",
          "text": [
            "Perceptron Results:\n",
            "Training Accuracy: 0.6500\n",
            "Testing Accuracy: 0.6778\n"
          ]
        }
      ],
      "source": [
        "#Perceptron\n",
        "perceptron = Perceptron(max_iter=100, random_state=42,eta0=0.8,validation_fraction=0.4,n_iter_no_change=9)\n",
        "perceptron.fit(X_train, Y_train)\n",
        "perceptronTrainPred = perceptron.predict(X_train)\n",
        "perceptronTestPred = perceptron.predict(X_test)\n",
        "\n",
        "perceptronTrainAcc = accuracy_score(Y_train, perceptronTrainPred)\n",
        "perceptronTestAcc = accuracy_score(Y_test, perceptronTestPred)\n",
        "\n",
        "print(\"Perceptron Results:\")\n",
        "print(f\"Training Accuracy: {perceptronTrainAcc:.4f}\")\n",
        "print(f\"Testing Accuracy: {perceptronTestAcc:.4f}\")"
      ]
    },
    {
      "cell_type": "code",
      "execution_count": null,
      "metadata": {
        "id": "yaBNZpxQx9P4",
        "outputId": "182303cb-1670-4064-af8d-e15d80bfd1fb"
      },
      "outputs": [
        {
          "name": "stdout",
          "output_type": "stream",
          "text": [
            "Logistic Regression Have High Accurcay, Train:0.9, Testing: 0.9333333333333333\n"
          ]
        }
      ],
      "source": [
        "#Comparision\n",
        "\n",
        "if (logregTrainAcc > perceptronTrainAcc) and (logregTestAcc > perceptronTestAcc):\n",
        "    print(f\"Logistic Regression Have High Accurcay, Train:{logregTrainAcc}, Testing: {logregTestAcc}\")\n",
        "else:\n",
        "    print(f\"Perceptron Have High Accurcay, Train:{perceptronTrainAcc}, Testing: {perceptronTestAcc}\")"
      ]
    },
    {
      "cell_type": "markdown",
      "metadata": {
        "id": "dnbW4OVBx9P5"
      },
      "source": [
        "# WINE DATASET"
      ]
    },
    {
      "cell_type": "code",
      "execution_count": null,
      "metadata": {
        "id": "hqA2pGzFx9P5",
        "outputId": "f75efc02-b94f-43e5-b4f1-1d0abafd605e"
      },
      "outputs": [
        {
          "data": {
            "text/html": [
              "<div>\n",
              "<style scoped>\n",
              "    .dataframe tbody tr th:only-of-type {\n",
              "        vertical-align: middle;\n",
              "    }\n",
              "\n",
              "    .dataframe tbody tr th {\n",
              "        vertical-align: top;\n",
              "    }\n",
              "\n",
              "    .dataframe thead th {\n",
              "        text-align: right;\n",
              "    }\n",
              "</style>\n",
              "<table border=\"1\" class=\"dataframe\">\n",
              "  <thead>\n",
              "    <tr style=\"text-align: right;\">\n",
              "      <th></th>\n",
              "      <th>fixed acidity</th>\n",
              "      <th>volatile acidity</th>\n",
              "      <th>citric acid</th>\n",
              "      <th>residual sugar</th>\n",
              "      <th>chlorides</th>\n",
              "      <th>free sulfur dioxide</th>\n",
              "      <th>total sulfur dioxide</th>\n",
              "      <th>density</th>\n",
              "      <th>pH</th>\n",
              "      <th>sulphates</th>\n",
              "      <th>alcohol</th>\n",
              "      <th>quality</th>\n",
              "      <th>Id</th>\n",
              "    </tr>\n",
              "  </thead>\n",
              "  <tbody>\n",
              "    <tr>\n",
              "      <th>0</th>\n",
              "      <td>7.4</td>\n",
              "      <td>0.70</td>\n",
              "      <td>0.00</td>\n",
              "      <td>1.9</td>\n",
              "      <td>0.076</td>\n",
              "      <td>11.0</td>\n",
              "      <td>34.0</td>\n",
              "      <td>0.9978</td>\n",
              "      <td>3.51</td>\n",
              "      <td>0.56</td>\n",
              "      <td>9.4</td>\n",
              "      <td>5</td>\n",
              "      <td>0</td>\n",
              "    </tr>\n",
              "    <tr>\n",
              "      <th>1</th>\n",
              "      <td>7.8</td>\n",
              "      <td>0.88</td>\n",
              "      <td>0.00</td>\n",
              "      <td>2.6</td>\n",
              "      <td>0.098</td>\n",
              "      <td>25.0</td>\n",
              "      <td>67.0</td>\n",
              "      <td>0.9968</td>\n",
              "      <td>3.20</td>\n",
              "      <td>0.68</td>\n",
              "      <td>9.8</td>\n",
              "      <td>5</td>\n",
              "      <td>1</td>\n",
              "    </tr>\n",
              "    <tr>\n",
              "      <th>2</th>\n",
              "      <td>7.8</td>\n",
              "      <td>0.76</td>\n",
              "      <td>0.04</td>\n",
              "      <td>2.3</td>\n",
              "      <td>0.092</td>\n",
              "      <td>15.0</td>\n",
              "      <td>54.0</td>\n",
              "      <td>0.9970</td>\n",
              "      <td>3.26</td>\n",
              "      <td>0.65</td>\n",
              "      <td>9.8</td>\n",
              "      <td>5</td>\n",
              "      <td>2</td>\n",
              "    </tr>\n",
              "    <tr>\n",
              "      <th>3</th>\n",
              "      <td>11.2</td>\n",
              "      <td>0.28</td>\n",
              "      <td>0.56</td>\n",
              "      <td>1.9</td>\n",
              "      <td>0.075</td>\n",
              "      <td>17.0</td>\n",
              "      <td>60.0</td>\n",
              "      <td>0.9980</td>\n",
              "      <td>3.16</td>\n",
              "      <td>0.58</td>\n",
              "      <td>9.8</td>\n",
              "      <td>6</td>\n",
              "      <td>3</td>\n",
              "    </tr>\n",
              "    <tr>\n",
              "      <th>4</th>\n",
              "      <td>7.4</td>\n",
              "      <td>0.70</td>\n",
              "      <td>0.00</td>\n",
              "      <td>1.9</td>\n",
              "      <td>0.076</td>\n",
              "      <td>11.0</td>\n",
              "      <td>34.0</td>\n",
              "      <td>0.9978</td>\n",
              "      <td>3.51</td>\n",
              "      <td>0.56</td>\n",
              "      <td>9.4</td>\n",
              "      <td>5</td>\n",
              "      <td>4</td>\n",
              "    </tr>\n",
              "  </tbody>\n",
              "</table>\n",
              "</div>"
            ],
            "text/plain": [
              "   fixed acidity  volatile acidity  citric acid  residual sugar  chlorides  \\\n",
              "0            7.4              0.70         0.00             1.9      0.076   \n",
              "1            7.8              0.88         0.00             2.6      0.098   \n",
              "2            7.8              0.76         0.04             2.3      0.092   \n",
              "3           11.2              0.28         0.56             1.9      0.075   \n",
              "4            7.4              0.70         0.00             1.9      0.076   \n",
              "\n",
              "   free sulfur dioxide  total sulfur dioxide  density    pH  sulphates  \\\n",
              "0                 11.0                  34.0   0.9978  3.51       0.56   \n",
              "1                 25.0                  67.0   0.9968  3.20       0.68   \n",
              "2                 15.0                  54.0   0.9970  3.26       0.65   \n",
              "3                 17.0                  60.0   0.9980  3.16       0.58   \n",
              "4                 11.0                  34.0   0.9978  3.51       0.56   \n",
              "\n",
              "   alcohol  quality  Id  \n",
              "0      9.4        5   0  \n",
              "1      9.8        5   1  \n",
              "2      9.8        5   2  \n",
              "3      9.8        6   3  \n",
              "4      9.4        5   4  "
            ]
          },
          "execution_count": 41,
          "metadata": {},
          "output_type": "execute_result"
        }
      ],
      "source": [
        "dataset = pd.read_csv('WineQT.csv')\n",
        "dataset.head()"
      ]
    },
    {
      "cell_type": "code",
      "execution_count": null,
      "metadata": {
        "id": "07XSOmuNx9P5",
        "outputId": "61847adc-985a-4742-f0d1-a4752b7b38b1"
      },
      "outputs": [
        {
          "name": "stdout",
          "output_type": "stream",
          "text": [
            "<class 'pandas.core.frame.DataFrame'>\n",
            "RangeIndex: 1143 entries, 0 to 1142\n",
            "Data columns (total 13 columns):\n",
            " #   Column                Non-Null Count  Dtype  \n",
            "---  ------                --------------  -----  \n",
            " 0   fixed acidity         1143 non-null   float64\n",
            " 1   volatile acidity      1143 non-null   float64\n",
            " 2   citric acid           1143 non-null   float64\n",
            " 3   residual sugar        1143 non-null   float64\n",
            " 4   chlorides             1143 non-null   float64\n",
            " 5   free sulfur dioxide   1143 non-null   float64\n",
            " 6   total sulfur dioxide  1143 non-null   float64\n",
            " 7   density               1143 non-null   float64\n",
            " 8   pH                    1143 non-null   float64\n",
            " 9   sulphates             1143 non-null   float64\n",
            " 10  alcohol               1143 non-null   float64\n",
            " 11  quality               1143 non-null   int64  \n",
            " 12  Id                    1143 non-null   int64  \n",
            "dtypes: float64(11), int64(2)\n",
            "memory usage: 116.2 KB\n",
            "Information: \n",
            " None\n",
            "\n",
            "\n",
            "Statistica Summary: \n",
            "        fixed acidity  volatile acidity  citric acid  residual sugar  \\\n",
            "count    1143.000000       1143.000000  1143.000000     1143.000000   \n",
            "mean        8.311111          0.531339     0.268364        2.532152   \n",
            "std         1.747595          0.179633     0.196686        1.355917   \n",
            "min         4.600000          0.120000     0.000000        0.900000   \n",
            "25%         7.100000          0.392500     0.090000        1.900000   \n",
            "50%         7.900000          0.520000     0.250000        2.200000   \n",
            "75%         9.100000          0.640000     0.420000        2.600000   \n",
            "max        15.900000          1.580000     1.000000       15.500000   \n",
            "\n",
            "         chlorides  free sulfur dioxide  total sulfur dioxide      density  \\\n",
            "count  1143.000000          1143.000000           1143.000000  1143.000000   \n",
            "mean      0.086933            15.615486             45.914698     0.996730   \n",
            "std       0.047267            10.250486             32.782130     0.001925   \n",
            "min       0.012000             1.000000              6.000000     0.990070   \n",
            "25%       0.070000             7.000000             21.000000     0.995570   \n",
            "50%       0.079000            13.000000             37.000000     0.996680   \n",
            "75%       0.090000            21.000000             61.000000     0.997845   \n",
            "max       0.611000            68.000000            289.000000     1.003690   \n",
            "\n",
            "                pH    sulphates      alcohol      quality           Id  \n",
            "count  1143.000000  1143.000000  1143.000000  1143.000000  1143.000000  \n",
            "mean      3.311015     0.657708    10.442111     5.657043   804.969379  \n",
            "std       0.156664     0.170399     1.082196     0.805824   463.997116  \n",
            "min       2.740000     0.330000     8.400000     3.000000     0.000000  \n",
            "25%       3.205000     0.550000     9.500000     5.000000   411.000000  \n",
            "50%       3.310000     0.620000    10.200000     6.000000   794.000000  \n",
            "75%       3.400000     0.730000    11.100000     6.000000  1209.500000  \n",
            "max       4.010000     2.000000    14.900000     8.000000  1597.000000  \n"
          ]
        }
      ],
      "source": [
        "#(Basic Infromation And Statistical Summary)\n",
        "print(\"Information: \\n\",dataset.info())\n",
        "print(\"\\n\\nStatistica Summary: \\n\",dataset.describe())"
      ]
    },
    {
      "cell_type": "code",
      "execution_count": null,
      "metadata": {
        "id": "11keIfJ6x9P5",
        "outputId": "86a393c6-4570-4787-d289-02a668980426"
      },
      "outputs": [
        {
          "name": "stdout",
          "output_type": "stream",
          "text": [
            "No missing values in the dataset.\n",
            "No duplicate records in the dataset.\n",
            "No Categorical Features Exists in the dataset.\n"
          ]
        }
      ],
      "source": [
        "if dataset.isnull().values.any():\n",
        "    missingValues = dataset.isnull().sum()\n",
        "    print(\"Missing Values:\\n\", missingValues)\n",
        "\n",
        "    cleanedDataset = dataset.fillna(dataset.mean())\n",
        "    print(\"Dataset After Removing Missing Values: \", cleanedDataset)\n",
        "else:\n",
        "    print(\"No missing values in the dataset.\")\n",
        "\n",
        "\n",
        "if dataset.duplicated().any():\n",
        "    duplicateRecords = dataset.duplicated().sum()\n",
        "    print(\"\\nDuplicate Records:\\n\", duplicateRecords)\n",
        "\n",
        "    cleanedDataset = dataset.drop_duplicates()\n",
        "    print(\"Dataset After Removing Duplicates: \", cleanedDataset)\n",
        "else:\n",
        "    print(\"No duplicate records in the dataset.\")\n",
        "\n",
        "categoricalFeatures = dataset.select_dtypes(include=['object']).columns\n",
        "if len(categoricalFeatures > 0):\n",
        "    print(\"\\nCategorical Features:\\n\", categoricalFeatures)\n",
        "else:\n",
        "    print(\"No Categorical Features Exists in the dataset.\")"
      ]
    },
    {
      "cell_type": "code",
      "execution_count": null,
      "metadata": {
        "id": "9_ScOFyEx9P6",
        "outputId": "1c044bfd-8de2-45bd-ed8d-9b4683f4417b"
      },
      "outputs": [
        {
          "name": "stdout",
          "output_type": "stream",
          "text": [
            "5    483\n",
            "6    462\n",
            "7    143\n",
            "4     33\n",
            "8     16\n",
            "3      6\n",
            "Name: quality, dtype: int64\n"
          ]
        }
      ],
      "source": [
        "print(dataset['quality'].value_counts())\n",
        "\n",
        "dataset['quality'] = (dataset['quality'] >= 6).astype(int)\n",
        "\n",
        "target = 'quality'\n",
        "\n",
        "X = dataset.drop(target,axis=1)\n",
        "Y = dataset[target]\n",
        "\n",
        "scaler = StandardScaler()\n",
        "X_scaled = scaler.fit_transform(X)\n",
        "\n",
        "X_train, X_test, Y_train, Y_test = train_test_split(X_scaled, y, test_size=0.2, random_state=42)"
      ]
    },
    {
      "cell_type": "code",
      "execution_count": null,
      "metadata": {
        "id": "nNfc2J2cx9P6",
        "outputId": "921d2462-1e7f-411b-9938-d14d0bcfeca1"
      },
      "outputs": [
        {
          "name": "stdout",
          "output_type": "stream",
          "text": [
            "Epoch 1/50\n"
          ]
        },
        {
          "name": "stderr",
          "output_type": "stream",
          "text": [
            "C:\\Users\\k228729\\AppData\\Roaming\\Python\\Python311\\site-packages\\keras\\src\\layers\\core\\dense.py:87: UserWarning: Do not pass an `input_shape`/`input_dim` argument to a layer. When using Sequential models, prefer using an `Input(shape)` object as the first layer in the model instead.\n",
            "  super().__init__(activity_regularizer=activity_regularizer, **kwargs)\n"
          ]
        },
        {
          "name": "stdout",
          "output_type": "stream",
          "text": [
            "\u001b[1m15/15\u001b[0m \u001b[32m━━━━━━━━━━━━━━━━━━━━\u001b[0m\u001b[37m\u001b[0m \u001b[1m1s\u001b[0m 17ms/step - accuracy: 0.5550 - loss: 0.6820 - precision_3: 0.7192 - recall_3: 0.2811 - val_accuracy: 0.7424 - val_loss: 0.5661 - val_precision_3: 0.7615 - val_recall_3: 0.7795\n",
            "Epoch 2/50\n",
            "\u001b[1m15/15\u001b[0m \u001b[32m━━━━━━━━━━━━━━━━━━━━\u001b[0m\u001b[37m\u001b[0m \u001b[1m0s\u001b[0m 3ms/step - accuracy: 0.7524 - loss: 0.5519 - precision_3: 0.7991 - recall_3: 0.7448 - val_accuracy: 0.7205 - val_loss: 0.5266 - val_precision_3: 0.7603 - val_recall_3: 0.7244\n",
            "Epoch 3/50\n",
            "\u001b[1m15/15\u001b[0m \u001b[32m━━━━━━━━━━━━━━━━━━━━\u001b[0m\u001b[37m\u001b[0m \u001b[1m0s\u001b[0m 3ms/step - accuracy: 0.7430 - loss: 0.5181 - precision_3: 0.7780 - recall_3: 0.7319 - val_accuracy: 0.7293 - val_loss: 0.5227 - val_precision_3: 0.7481 - val_recall_3: 0.7717\n",
            "Epoch 4/50\n",
            "\u001b[1m15/15\u001b[0m \u001b[32m━━━━━━━━━━━━━━━━━━━━\u001b[0m\u001b[37m\u001b[0m \u001b[1m0s\u001b[0m 6ms/step - accuracy: 0.7692 - loss: 0.4674 - precision_3: 0.7862 - recall_3: 0.7854 - val_accuracy: 0.7380 - val_loss: 0.5194 - val_precision_3: 0.7769 - val_recall_3: 0.7402\n",
            "Epoch 5/50\n",
            "\u001b[1m15/15\u001b[0m \u001b[32m━━━━━━━━━━━━━━━━━━━━\u001b[0m\u001b[37m\u001b[0m \u001b[1m0s\u001b[0m 4ms/step - accuracy: 0.7797 - loss: 0.4736 - precision_3: 0.8389 - recall_3: 0.7341 - val_accuracy: 0.7642 - val_loss: 0.5088 - val_precision_3: 0.7786 - val_recall_3: 0.8031\n",
            "Epoch 6/50\n",
            "\u001b[1m15/15\u001b[0m \u001b[32m━━━━━━━━━━━━━━━━━━━━\u001b[0m\u001b[37m\u001b[0m \u001b[1m0s\u001b[0m 4ms/step - accuracy: 0.7554 - loss: 0.4973 - precision_3: 0.7937 - recall_3: 0.7489 - val_accuracy: 0.7380 - val_loss: 0.5086 - val_precision_3: 0.7863 - val_recall_3: 0.7244\n",
            "Epoch 7/50\n",
            "\u001b[1m15/15\u001b[0m \u001b[32m━━━━━━━━━━━━━━━━━━━━\u001b[0m\u001b[37m\u001b[0m \u001b[1m0s\u001b[0m 3ms/step - accuracy: 0.7960 - loss: 0.4606 - precision_3: 0.8318 - recall_3: 0.7927 - val_accuracy: 0.7424 - val_loss: 0.5055 - val_precision_3: 0.7742 - val_recall_3: 0.7559\n",
            "Epoch 8/50\n",
            "\u001b[1m15/15\u001b[0m \u001b[32m━━━━━━━━━━━━━━━━━━━━\u001b[0m\u001b[37m\u001b[0m \u001b[1m0s\u001b[0m 2ms/step - accuracy: 0.7805 - loss: 0.4636 - precision_3: 0.8349 - recall_3: 0.7370 - val_accuracy: 0.7467 - val_loss: 0.5053 - val_precision_3: 0.7717 - val_recall_3: 0.7717\n",
            "Epoch 9/50\n",
            "\u001b[1m15/15\u001b[0m \u001b[32m━━━━━━━━━━━━━━━━━━━━\u001b[0m\u001b[37m\u001b[0m \u001b[1m0s\u001b[0m 3ms/step - accuracy: 0.7783 - loss: 0.4692 - precision_3: 0.7985 - recall_3: 0.7797 - val_accuracy: 0.7467 - val_loss: 0.5029 - val_precision_3: 0.7717 - val_recall_3: 0.7717\n",
            "Epoch 10/50\n",
            "\u001b[1m15/15\u001b[0m \u001b[32m━━━━━━━━━━━━━━━━━━━━\u001b[0m\u001b[37m\u001b[0m \u001b[1m0s\u001b[0m 2ms/step - accuracy: 0.7991 - loss: 0.4587 - precision_3: 0.8121 - recall_3: 0.7862 - val_accuracy: 0.7380 - val_loss: 0.5063 - val_precision_3: 0.7680 - val_recall_3: 0.7559\n",
            "Epoch 11/50\n",
            "\u001b[1m15/15\u001b[0m \u001b[32m━━━━━━━━━━━━━━━━━━━━\u001b[0m\u001b[37m\u001b[0m \u001b[1m0s\u001b[0m 2ms/step - accuracy: 0.7989 - loss: 0.4433 - precision_3: 0.8238 - recall_3: 0.8038 - val_accuracy: 0.7336 - val_loss: 0.5093 - val_precision_3: 0.7750 - val_recall_3: 0.7323\n",
            "Epoch 12/50\n",
            "\u001b[1m15/15\u001b[0m \u001b[32m━━━━━━━━━━━━━━━━━━━━\u001b[0m\u001b[37m\u001b[0m \u001b[1m0s\u001b[0m 2ms/step - accuracy: 0.8030 - loss: 0.4363 - precision_3: 0.8327 - recall_3: 0.7803 - val_accuracy: 0.7467 - val_loss: 0.4968 - val_precision_3: 0.7674 - val_recall_3: 0.7795\n",
            "Epoch 13/50\n",
            "\u001b[1m15/15\u001b[0m \u001b[32m━━━━━━━━━━━━━━━━━━━━\u001b[0m\u001b[37m\u001b[0m \u001b[1m0s\u001b[0m 3ms/step - accuracy: 0.8070 - loss: 0.4363 - precision_3: 0.8213 - recall_3: 0.8250 - val_accuracy: 0.7336 - val_loss: 0.5045 - val_precision_3: 0.7750 - val_recall_3: 0.7323\n",
            "Epoch 14/50\n",
            "\u001b[1m15/15\u001b[0m \u001b[32m━━━━━━━━━━━━━━━━━━━━\u001b[0m\u001b[37m\u001b[0m \u001b[1m0s\u001b[0m 3ms/step - accuracy: 0.8006 - loss: 0.4404 - precision_3: 0.8459 - recall_3: 0.7775 - val_accuracy: 0.7424 - val_loss: 0.5017 - val_precision_3: 0.7656 - val_recall_3: 0.7717\n",
            "Epoch 15/50\n",
            "\u001b[1m15/15\u001b[0m \u001b[32m━━━━━━━━━━━━━━━━━━━━\u001b[0m\u001b[37m\u001b[0m \u001b[1m0s\u001b[0m 4ms/step - accuracy: 0.8169 - loss: 0.4350 - precision_3: 0.8532 - recall_3: 0.8090 - val_accuracy: 0.7424 - val_loss: 0.5066 - val_precision_3: 0.7787 - val_recall_3: 0.7480\n",
            "Epoch 16/50\n",
            "\u001b[1m15/15\u001b[0m \u001b[32m━━━━━━━━━━━━━━━━━━━━\u001b[0m\u001b[37m\u001b[0m \u001b[1m0s\u001b[0m 3ms/step - accuracy: 0.8140 - loss: 0.4150 - precision_3: 0.8470 - recall_3: 0.7967 - val_accuracy: 0.7467 - val_loss: 0.4984 - val_precision_3: 0.7674 - val_recall_3: 0.7795\n",
            "Epoch 17/50\n",
            "\u001b[1m15/15\u001b[0m \u001b[32m━━━━━━━━━━━━━━━━━━━━\u001b[0m\u001b[37m\u001b[0m \u001b[1m0s\u001b[0m 4ms/step - accuracy: 0.8151 - loss: 0.4138 - precision_3: 0.8406 - recall_3: 0.8116 - val_accuracy: 0.7511 - val_loss: 0.5098 - val_precision_3: 0.7823 - val_recall_3: 0.7638\n",
            "Epoch 18/50\n",
            "\u001b[1m15/15\u001b[0m \u001b[32m━━━━━━━━━━━━━━━━━━━━\u001b[0m\u001b[37m\u001b[0m \u001b[1m0s\u001b[0m 5ms/step - accuracy: 0.8240 - loss: 0.3928 - precision_3: 0.8466 - recall_3: 0.8183 - val_accuracy: 0.7424 - val_loss: 0.5075 - val_precision_3: 0.7742 - val_recall_3: 0.7559\n",
            "Epoch 19/50\n",
            "\u001b[1m15/15\u001b[0m \u001b[32m━━━━━━━━━━━━━━━━━━━━\u001b[0m\u001b[37m\u001b[0m \u001b[1m0s\u001b[0m 2ms/step - accuracy: 0.8030 - loss: 0.4238 - precision_3: 0.8443 - recall_3: 0.7842 - val_accuracy: 0.7380 - val_loss: 0.5079 - val_precision_3: 0.7724 - val_recall_3: 0.7480\n",
            "Epoch 20/50\n",
            "\u001b[1m15/15\u001b[0m \u001b[32m━━━━━━━━━━━━━━━━━━━━\u001b[0m\u001b[37m\u001b[0m \u001b[1m0s\u001b[0m 3ms/step - accuracy: 0.8162 - loss: 0.4092 - precision_3: 0.8207 - recall_3: 0.8451 - val_accuracy: 0.7511 - val_loss: 0.5002 - val_precision_3: 0.7778 - val_recall_3: 0.7717\n",
            "Epoch 21/50\n",
            "\u001b[1m15/15\u001b[0m \u001b[32m━━━━━━━━━━━━━━━━━━━━\u001b[0m\u001b[37m\u001b[0m \u001b[1m0s\u001b[0m 5ms/step - accuracy: 0.8292 - loss: 0.3945 - precision_3: 0.8404 - recall_3: 0.8363 - val_accuracy: 0.7511 - val_loss: 0.5050 - val_precision_3: 0.7917 - val_recall_3: 0.7480\n",
            "Epoch 22/50\n",
            "\u001b[1m15/15\u001b[0m \u001b[32m━━━━━━━━━━━━━━━━━━━━\u001b[0m\u001b[37m\u001b[0m \u001b[1m0s\u001b[0m 3ms/step - accuracy: 0.8280 - loss: 0.3924 - precision_3: 0.8479 - recall_3: 0.8165 - val_accuracy: 0.7424 - val_loss: 0.5151 - val_precision_3: 0.7500 - val_recall_3: 0.8031\n",
            "Epoch 23/50\n",
            "\u001b[1m15/15\u001b[0m \u001b[32m━━━━━━━━━━━━━━━━━━━━\u001b[0m\u001b[37m\u001b[0m \u001b[1m0s\u001b[0m 4ms/step - accuracy: 0.8362 - loss: 0.4005 - precision_3: 0.8283 - recall_3: 0.8755 - val_accuracy: 0.7511 - val_loss: 0.5117 - val_precision_3: 0.7917 - val_recall_3: 0.7480\n",
            "Epoch 24/50\n",
            "\u001b[1m15/15\u001b[0m \u001b[32m━━━━━━━━━━━━━━━━━━━━\u001b[0m\u001b[37m\u001b[0m \u001b[1m0s\u001b[0m 3ms/step - accuracy: 0.8197 - loss: 0.4043 - precision_3: 0.8492 - recall_3: 0.8270 - val_accuracy: 0.7642 - val_loss: 0.5247 - val_precision_3: 0.8067 - val_recall_3: 0.7559\n",
            "Epoch 25/50\n",
            "\u001b[1m15/15\u001b[0m \u001b[32m━━━━━━━━━━━━━━━━━━━━\u001b[0m\u001b[37m\u001b[0m \u001b[1m0s\u001b[0m 3ms/step - accuracy: 0.8420 - loss: 0.3795 - precision_3: 0.8680 - recall_3: 0.8245 - val_accuracy: 0.7467 - val_loss: 0.5248 - val_precision_3: 0.7482 - val_recall_3: 0.8189\n",
            "Epoch 26/50\n",
            "\u001b[1m15/15\u001b[0m \u001b[32m━━━━━━━━━━━━━━━━━━━━\u001b[0m\u001b[37m\u001b[0m \u001b[1m0s\u001b[0m 3ms/step - accuracy: 0.8571 - loss: 0.3777 - precision_3: 0.8459 - recall_3: 0.8945 - val_accuracy: 0.7598 - val_loss: 0.5210 - val_precision_3: 0.8051 - val_recall_3: 0.7480\n",
            "Epoch 27/50\n",
            "\u001b[1m15/15\u001b[0m \u001b[32m━━━━━━━━━━━━━━━━━━━━\u001b[0m\u001b[37m\u001b[0m \u001b[1m0s\u001b[0m 2ms/step - accuracy: 0.8246 - loss: 0.3974 - precision_3: 0.8462 - recall_3: 0.8285 - val_accuracy: 0.7555 - val_loss: 0.5294 - val_precision_3: 0.7934 - val_recall_3: 0.7559\n",
            "Epoch 28/50\n",
            "\u001b[1m15/15\u001b[0m \u001b[32m━━━━━━━━━━━━━━━━━━━━\u001b[0m\u001b[37m\u001b[0m \u001b[1m0s\u001b[0m 3ms/step - accuracy: 0.8202 - loss: 0.4063 - precision_3: 0.8672 - recall_3: 0.7821 - val_accuracy: 0.7555 - val_loss: 0.5195 - val_precision_3: 0.7795 - val_recall_3: 0.7795\n",
            "Epoch 29/50\n",
            "\u001b[1m15/15\u001b[0m \u001b[32m━━━━━━━━━━━━━━━━━━━━\u001b[0m\u001b[37m\u001b[0m \u001b[1m0s\u001b[0m 3ms/step - accuracy: 0.8514 - loss: 0.3563 - precision_3: 0.8803 - recall_3: 0.8484 - val_accuracy: 0.7598 - val_loss: 0.5336 - val_precision_3: 0.7769 - val_recall_3: 0.7953\n",
            "Epoch 30/50\n",
            "\u001b[1m15/15\u001b[0m \u001b[32m━━━━━━━━━━━━━━━━━━━━\u001b[0m\u001b[37m\u001b[0m \u001b[1m0s\u001b[0m 3ms/step - accuracy: 0.8615 - loss: 0.3536 - precision_3: 0.8676 - recall_3: 0.8793 - val_accuracy: 0.7598 - val_loss: 0.5583 - val_precision_3: 0.8214 - val_recall_3: 0.7244\n",
            "Epoch 31/50\n",
            "\u001b[1m15/15\u001b[0m \u001b[32m━━━━━━━━━━━━━━━━━━━━\u001b[0m\u001b[37m\u001b[0m \u001b[1m0s\u001b[0m 4ms/step - accuracy: 0.8605 - loss: 0.3446 - precision_3: 0.8837 - recall_3: 0.8615 - val_accuracy: 0.7598 - val_loss: 0.5405 - val_precision_3: 0.8000 - val_recall_3: 0.7559\n",
            "Epoch 32/50\n",
            "\u001b[1m15/15\u001b[0m \u001b[32m━━━━━━━━━━━━━━━━━━━━\u001b[0m\u001b[37m\u001b[0m \u001b[1m0s\u001b[0m 4ms/step - accuracy: 0.8665 - loss: 0.3480 - precision_3: 0.8878 - recall_3: 0.8704 - val_accuracy: 0.7598 - val_loss: 0.5353 - val_precision_3: 0.7812 - val_recall_3: 0.7874\n",
            "Epoch 33/50\n",
            "\u001b[1m15/15\u001b[0m \u001b[32m━━━━━━━━━━━━━━━━━━━━\u001b[0m\u001b[37m\u001b[0m \u001b[1m0s\u001b[0m 4ms/step - accuracy: 0.8721 - loss: 0.3330 - precision_3: 0.8776 - recall_3: 0.8923 - val_accuracy: 0.7642 - val_loss: 0.5412 - val_precision_3: 0.7967 - val_recall_3: 0.7717\n",
            "Epoch 34/50\n",
            "\u001b[1m15/15\u001b[0m \u001b[32m━━━━━━━━━━━━━━━━━━━━\u001b[0m\u001b[37m\u001b[0m \u001b[1m0s\u001b[0m 3ms/step - accuracy: 0.8863 - loss: 0.3083 - precision_3: 0.8980 - recall_3: 0.8986 - val_accuracy: 0.7642 - val_loss: 0.5490 - val_precision_3: 0.8067 - val_recall_3: 0.7559\n",
            "Epoch 35/50\n",
            "\u001b[1m15/15\u001b[0m \u001b[32m━━━━━━━━━━━━━━━━━━━━\u001b[0m\u001b[37m\u001b[0m \u001b[1m0s\u001b[0m 4ms/step - accuracy: 0.8704 - loss: 0.3313 - precision_3: 0.8860 - recall_3: 0.8760 - val_accuracy: 0.7598 - val_loss: 0.5539 - val_precision_3: 0.7903 - val_recall_3: 0.7717\n",
            "Epoch 36/50\n",
            "\u001b[1m15/15\u001b[0m \u001b[32m━━━━━━━━━━━━━━━━━━━━\u001b[0m\u001b[37m\u001b[0m \u001b[1m0s\u001b[0m 4ms/step - accuracy: 0.8661 - loss: 0.3239 - precision_3: 0.8689 - recall_3: 0.8891 - val_accuracy: 0.7817 - val_loss: 0.5506 - val_precision_3: 0.8031 - val_recall_3: 0.8031\n",
            "Epoch 37/50\n",
            "\u001b[1m15/15\u001b[0m \u001b[32m━━━━━━━━━━━━━━━━━━━━\u001b[0m\u001b[37m\u001b[0m \u001b[1m0s\u001b[0m 3ms/step - accuracy: 0.8881 - loss: 0.3155 - precision_3: 0.8870 - recall_3: 0.9094 - val_accuracy: 0.7598 - val_loss: 0.5589 - val_precision_3: 0.7857 - val_recall_3: 0.7795\n",
            "Epoch 38/50\n",
            "\u001b[1m15/15\u001b[0m \u001b[32m━━━━━━━━━━━━━━━━━━━━\u001b[0m\u001b[37m\u001b[0m \u001b[1m0s\u001b[0m 3ms/step - accuracy: 0.8716 - loss: 0.3252 - precision_3: 0.8647 - recall_3: 0.8871 - val_accuracy: 0.7598 - val_loss: 0.5701 - val_precision_3: 0.7647 - val_recall_3: 0.8189\n",
            "Epoch 39/50\n",
            "\u001b[1m15/15\u001b[0m \u001b[32m━━━━━━━━━━━━━━━━━━━━\u001b[0m\u001b[37m\u001b[0m \u001b[1m0s\u001b[0m 2ms/step - accuracy: 0.8795 - loss: 0.3173 - precision_3: 0.8730 - recall_3: 0.9053 - val_accuracy: 0.7729 - val_loss: 0.5730 - val_precision_3: 0.7820 - val_recall_3: 0.8189\n",
            "Epoch 40/50\n",
            "\u001b[1m15/15\u001b[0m \u001b[32m━━━━━━━━━━━━━━━━━━━━\u001b[0m\u001b[37m\u001b[0m \u001b[1m0s\u001b[0m 4ms/step - accuracy: 0.8856 - loss: 0.2998 - precision_3: 0.8835 - recall_3: 0.9077 - val_accuracy: 0.7598 - val_loss: 0.5647 - val_precision_3: 0.7647 - val_recall_3: 0.8189\n",
            "Epoch 41/50\n",
            "\u001b[1m15/15\u001b[0m \u001b[32m━━━━━━━━━━━━━━━━━━━━\u001b[0m\u001b[37m\u001b[0m \u001b[1m0s\u001b[0m 2ms/step - accuracy: 0.8698 - loss: 0.3160 - precision_3: 0.8563 - recall_3: 0.9186 - val_accuracy: 0.7686 - val_loss: 0.5822 - val_precision_3: 0.7721 - val_recall_3: 0.8268\n",
            "Epoch 42/50\n",
            "\u001b[1m15/15\u001b[0m \u001b[32m━━━━━━━━━━━━━━━━━━━━\u001b[0m\u001b[37m\u001b[0m \u001b[1m0s\u001b[0m 3ms/step - accuracy: 0.8877 - loss: 0.2945 - precision_3: 0.8779 - recall_3: 0.9256 - val_accuracy: 0.7729 - val_loss: 0.5713 - val_precision_3: 0.7778 - val_recall_3: 0.8268\n",
            "Epoch 43/50\n",
            "\u001b[1m15/15\u001b[0m \u001b[32m━━━━━━━━━━━━━━━━━━━━\u001b[0m\u001b[37m\u001b[0m \u001b[1m0s\u001b[0m 3ms/step - accuracy: 0.8951 - loss: 0.2820 - precision_3: 0.8883 - recall_3: 0.9164 - val_accuracy: 0.7642 - val_loss: 0.5895 - val_precision_3: 0.7626 - val_recall_3: 0.8346\n",
            "Epoch 44/50\n",
            "\u001b[1m15/15\u001b[0m \u001b[32m━━━━━━━━━━━━━━━━━━━━\u001b[0m\u001b[37m\u001b[0m \u001b[1m0s\u001b[0m 4ms/step - accuracy: 0.8782 - loss: 0.2915 - precision_3: 0.8539 - recall_3: 0.9339 - val_accuracy: 0.7860 - val_loss: 0.6003 - val_precision_3: 0.7868 - val_recall_3: 0.8425\n",
            "Epoch 45/50\n",
            "\u001b[1m15/15\u001b[0m \u001b[32m━━━━━━━━━━━━━━━━━━━━\u001b[0m\u001b[37m\u001b[0m \u001b[1m0s\u001b[0m 3ms/step - accuracy: 0.8684 - loss: 0.2949 - precision_3: 0.8592 - recall_3: 0.9049 - val_accuracy: 0.7817 - val_loss: 0.6005 - val_precision_3: 0.7939 - val_recall_3: 0.8189\n",
            "Epoch 46/50\n",
            "\u001b[1m15/15\u001b[0m \u001b[32m━━━━━━━━━━━━━━━━━━━━\u001b[0m\u001b[37m\u001b[0m \u001b[1m0s\u001b[0m 3ms/step - accuracy: 0.8995 - loss: 0.2744 - precision_3: 0.9018 - recall_3: 0.9146 - val_accuracy: 0.7642 - val_loss: 0.6044 - val_precision_3: 0.7967 - val_recall_3: 0.7717\n",
            "Epoch 47/50\n",
            "\u001b[1m15/15\u001b[0m \u001b[32m━━━━━━━━━━━━━━━━━━━━\u001b[0m\u001b[37m\u001b[0m \u001b[1m0s\u001b[0m 4ms/step - accuracy: 0.8963 - loss: 0.2651 - precision_3: 0.8971 - recall_3: 0.9105 - val_accuracy: 0.7598 - val_loss: 0.6413 - val_precision_3: 0.8103 - val_recall_3: 0.7402\n",
            "Epoch 48/50\n",
            "\u001b[1m15/15\u001b[0m \u001b[32m━━━━━━━━━━━━━━━━━━━━\u001b[0m\u001b[37m\u001b[0m \u001b[1m0s\u001b[0m 3ms/step - accuracy: 0.8915 - loss: 0.2658 - precision_3: 0.8999 - recall_3: 0.8922 - val_accuracy: 0.7860 - val_loss: 0.6264 - val_precision_3: 0.8047 - val_recall_3: 0.8110\n",
            "Epoch 49/50\n",
            "\u001b[1m15/15\u001b[0m \u001b[32m━━━━━━━━━━━━━━━━━━━━\u001b[0m\u001b[37m\u001b[0m \u001b[1m0s\u001b[0m 4ms/step - accuracy: 0.9014 - loss: 0.2664 - precision_3: 0.9229 - recall_3: 0.8984 - val_accuracy: 0.7904 - val_loss: 0.6230 - val_precision_3: 0.8264 - val_recall_3: 0.7874\n",
            "Epoch 50/50\n",
            "\u001b[1m15/15\u001b[0m \u001b[32m━━━━━━━━━━━━━━━━━━━━\u001b[0m\u001b[37m\u001b[0m \u001b[1m0s\u001b[0m 4ms/step - accuracy: 0.8960 - loss: 0.2548 - precision_3: 0.9123 - recall_3: 0.8922 - val_accuracy: 0.7598 - val_loss: 0.6452 - val_precision_3: 0.7687 - val_recall_3: 0.8110\n",
            "\u001b[1m8/8\u001b[0m \u001b[32m━━━━━━━━━━━━━━━━━━━━\u001b[0m\u001b[37m\u001b[0m \u001b[1m0s\u001b[0m 3ms/step - accuracy: 0.7785 - loss: 0.6289 - precision_3: 0.7903 - recall_3: 0.8256\n",
            "Test Accuracy: 0.7598\n",
            "Test Precision: 0.7687\n",
            "Test Recall: 0.8110\n",
            "WARNING:tensorflow:5 out of the last 17 calls to <function TensorFlowTrainer.make_predict_function.<locals>.one_step_on_data_distributed at 0x0000016AA3A66980> triggered tf.function retracing. Tracing is expensive and the excessive number of tracings could be due to (1) creating @tf.function repeatedly in a loop, (2) passing tensors with different shapes, (3) passing Python objects instead of tensors. For (1), please define your @tf.function outside of the loop. For (2), @tf.function has reduce_retracing=True option that can avoid unnecessary retracing. For (3), please refer to https://www.tensorflow.org/guide/function#controlling_retracing and https://www.tensorflow.org/api_docs/python/tf/function for  more details.\n",
            "\u001b[1m8/8\u001b[0m \u001b[32m━━━━━━━━━━━━━━━━━━━━\u001b[0m\u001b[37m\u001b[0m \u001b[1m0s\u001b[0m 6ms/step \n",
            "Test F1 Score: 0.7893\n"
          ]
        }
      ],
      "source": [
        "model = Sequential()\n",
        "\n",
        "model.add(Dense(128, input_dim=X_train.shape[1], activation='relu')) #INPUT LAYER\n",
        "model.add(Dense(64, activation='tanh'))\n",
        "model.add(Dense(32, activation='relu'))\n",
        "model.add(Dense(1, activation='sigmoid')) #OUTPUT LAYER\n",
        "\n",
        "model.compile(optimizer='adam',\n",
        "              loss='binary_crossentropy',\n",
        "              metrics=['accuracy', metrics.Precision(), metrics.Recall()])\n",
        "\n",
        "# Train the model on the training data\n",
        "history = model.fit(X_train, Y_train, epochs=50, batch_size=64, validation_data=(X_test, Y_test))\n",
        "\n",
        "#Evaluate Data On Test Data\n",
        "testLoss, testAccuracy, testPrecision, testRecall = model.evaluate(X_test, Y_test)\n",
        "\n",
        "# Print the evaluation metrics\n",
        "print(f\"Test Accuracy: {testAccuracy:.4f}\")\n",
        "print(f\"Test Precision: {testPrecision:.4f}\")\n",
        "print(f\"Test Recall: {testRecall:.4f}\")\n",
        "\n",
        "\n",
        "yPred = model.predict(X_test)\n",
        "\n",
        "# Convert probabilities to binary class labels (0 or 1)\n",
        "yPredClasses = (yPred > 0.5).astype(int)\n",
        "\n",
        "# Compute F1 Score\n",
        "testF1Score = f1_score(Y_test, yPredClasses)\n",
        "print(f\"Test F1 Score: {testF1Score:.4f}\")\n"
      ]
    },
    {
      "cell_type": "code",
      "execution_count": null,
      "metadata": {
        "id": "qR7qArVPx9P6",
        "outputId": "63077aa2-ca55-4492-e27c-88f29bde313c"
      },
      "outputs": [
        {
          "data": {
            "image/png": "[encoded data removed]",
            "text/plain": [
              "<Figure size 1200x500 with 2 Axes>"
            ]
          },
          "metadata": {},
          "output_type": "display_data"
        }
      ],
      "source": [
        "#PLOTTING\n",
        "\n",
        "plt.figure(figsize=(12, 5))\n",
        "\n",
        "# Accuracy Plot\n",
        "plt.subplot(1, 2, 1)\n",
        "plt.plot(history.history['accuracy'], label='Train Accuracy')\n",
        "plt.plot(history.history['val_accuracy'], label='Test Accuracy')\n",
        "plt.title('Accuracy over epochs')\n",
        "plt.xlabel('Epochs')\n",
        "plt.ylabel('Accuracy')\n",
        "plt.legend()\n",
        "\n",
        "# Loss Plot\n",
        "plt.subplot(1, 2, 2)\n",
        "plt.plot(history.history['loss'], label='Train Loss')\n",
        "plt.plot(history.history['val_loss'], label='Test Loss')\n",
        "plt.title('Loss over epochs')\n",
        "plt.xlabel('Epochs')\n",
        "plt.ylabel('Loss')\n",
        "plt.legend()\n",
        "\n",
        "plt.tight_layout()\n",
        "plt.show()"
      ]
    }
  ],
  "metadata": {
    "kernelspec": {
      "display_name": "base",
      "language": "python",
      "name": "python3"
    },
    "language_info": {
      "codemirror_mode": {
        "name": "ipython",
        "version": 3
      },
      "file_extension": ".py",
      "mimetype": "text/x-python",
      "name": "python",
      "nbconvert_exporter": "python",
      "pygments_lexer": "ipython3",
      "version": "3.11.3"
    },
    "colab": {
      "provenance": []
    }
  },
  "nbformat": 4,
  "nbformat_minor": 0
}