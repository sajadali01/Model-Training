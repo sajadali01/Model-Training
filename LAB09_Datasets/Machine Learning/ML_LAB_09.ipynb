{
 "cells": [
  {
   "cell_type": "markdown",
   "metadata": {},
   "source": [
    "# Imports"
   ]
  },
  {
   "cell_type": "code",
   "execution_count": 2,
   "metadata": {},
   "outputs": [],
   "source": [
    "import numpy as np\n",
    "import pandas as pd\n",
    "import matplotlib.pyplot as plt\n",
    "import seaborn as sns\n",
    "from sklearn.preprocessing import StandardScaler, LabelEncoder\n",
    "from sklearn.model_selection import train_test_split\n",
    "from sklearn.metrics import accuracy_score, confusion_matrix,r2_score, classification_report,roc_auc_score,roc_curve,mean_absolute_error, mean_squared_error, roc_curve, roc_auc_score, precision_score, recall_score\n",
    "from sklearn.linear_model import LogisticRegression"
   ]
  },
  {
   "cell_type": "markdown",
   "metadata": {},
   "source": [
    "# Task 01"
   ]
  },
  {
   "cell_type": "code",
   "execution_count": 3,
   "metadata": {},
   "outputs": [
    {
     "data": {
      "text/html": [
       "<div>\n",
       "<style scoped>\n",
       "    .dataframe tbody tr th:only-of-type {\n",
       "        vertical-align: middle;\n",
       "    }\n",
       "\n",
       "    .dataframe tbody tr th {\n",
       "        vertical-align: top;\n",
       "    }\n",
       "\n",
       "    .dataframe thead th {\n",
       "        text-align: right;\n",
       "    }\n",
       "</style>\n",
       "<table border=\"1\" class=\"dataframe\">\n",
       "  <thead>\n",
       "    <tr style=\"text-align: right;\">\n",
       "      <th></th>\n",
       "      <th>age</th>\n",
       "      <th>sex</th>\n",
       "      <th>cp</th>\n",
       "      <th>trestbps</th>\n",
       "      <th>chol</th>\n",
       "      <th>fbs</th>\n",
       "      <th>restecg</th>\n",
       "      <th>thalach</th>\n",
       "      <th>exang</th>\n",
       "      <th>oldpeak</th>\n",
       "      <th>slope</th>\n",
       "      <th>ca</th>\n",
       "      <th>thal</th>\n",
       "      <th>target</th>\n",
       "    </tr>\n",
       "  </thead>\n",
       "  <tbody>\n",
       "    <tr>\n",
       "      <th>0</th>\n",
       "      <td>52</td>\n",
       "      <td>1</td>\n",
       "      <td>0</td>\n",
       "      <td>125</td>\n",
       "      <td>212</td>\n",
       "      <td>0</td>\n",
       "      <td>1</td>\n",
       "      <td>168</td>\n",
       "      <td>0</td>\n",
       "      <td>1.0</td>\n",
       "      <td>2</td>\n",
       "      <td>2</td>\n",
       "      <td>3</td>\n",
       "      <td>0</td>\n",
       "    </tr>\n",
       "    <tr>\n",
       "      <th>1</th>\n",
       "      <td>53</td>\n",
       "      <td>1</td>\n",
       "      <td>0</td>\n",
       "      <td>140</td>\n",
       "      <td>203</td>\n",
       "      <td>1</td>\n",
       "      <td>0</td>\n",
       "      <td>155</td>\n",
       "      <td>1</td>\n",
       "      <td>3.1</td>\n",
       "      <td>0</td>\n",
       "      <td>0</td>\n",
       "      <td>3</td>\n",
       "      <td>0</td>\n",
       "    </tr>\n",
       "    <tr>\n",
       "      <th>2</th>\n",
       "      <td>70</td>\n",
       "      <td>1</td>\n",
       "      <td>0</td>\n",
       "      <td>145</td>\n",
       "      <td>174</td>\n",
       "      <td>0</td>\n",
       "      <td>1</td>\n",
       "      <td>125</td>\n",
       "      <td>1</td>\n",
       "      <td>2.6</td>\n",
       "      <td>0</td>\n",
       "      <td>0</td>\n",
       "      <td>3</td>\n",
       "      <td>0</td>\n",
       "    </tr>\n",
       "    <tr>\n",
       "      <th>3</th>\n",
       "      <td>61</td>\n",
       "      <td>1</td>\n",
       "      <td>0</td>\n",
       "      <td>148</td>\n",
       "      <td>203</td>\n",
       "      <td>0</td>\n",
       "      <td>1</td>\n",
       "      <td>161</td>\n",
       "      <td>0</td>\n",
       "      <td>0.0</td>\n",
       "      <td>2</td>\n",
       "      <td>1</td>\n",
       "      <td>3</td>\n",
       "      <td>0</td>\n",
       "    </tr>\n",
       "    <tr>\n",
       "      <th>4</th>\n",
       "      <td>62</td>\n",
       "      <td>0</td>\n",
       "      <td>0</td>\n",
       "      <td>138</td>\n",
       "      <td>294</td>\n",
       "      <td>1</td>\n",
       "      <td>1</td>\n",
       "      <td>106</td>\n",
       "      <td>0</td>\n",
       "      <td>1.9</td>\n",
       "      <td>1</td>\n",
       "      <td>3</td>\n",
       "      <td>2</td>\n",
       "      <td>0</td>\n",
       "    </tr>\n",
       "  </tbody>\n",
       "</table>\n",
       "</div>"
      ],
      "text/plain": [
       "   age  sex  cp  trestbps  chol  fbs  restecg  thalach  exang  oldpeak  slope  \\\n",
       "0   52    1   0       125   212    0        1      168      0      1.0      2   \n",
       "1   53    1   0       140   203    1        0      155      1      3.1      0   \n",
       "2   70    1   0       145   174    0        1      125      1      2.6      0   \n",
       "3   61    1   0       148   203    0        1      161      0      0.0      2   \n",
       "4   62    0   0       138   294    1        1      106      0      1.9      1   \n",
       "\n",
       "   ca  thal  target  \n",
       "0   2     3       0  \n",
       "1   0     3       0  \n",
       "2   0     3       0  \n",
       "3   1     3       0  \n",
       "4   3     2       0  "
      ]
     },
     "execution_count": 3,
     "metadata": {},
     "output_type": "execute_result"
    }
   ],
   "source": [
    "#Loading \n",
    "\n",
    "dataset = pd.read_csv('heart.csv')\n",
    "dataset.head()"
   ]
  },
  {
   "cell_type": "code",
   "execution_count": 4,
   "metadata": {},
   "outputs": [
    {
     "name": "stdout",
     "output_type": "stream",
     "text": [
      "<class 'pandas.core.frame.DataFrame'>\n",
      "RangeIndex: 1025 entries, 0 to 1024\n",
      "Data columns (total 14 columns):\n",
      " #   Column    Non-Null Count  Dtype  \n",
      "---  ------    --------------  -----  \n",
      " 0   age       1025 non-null   int64  \n",
      " 1   sex       1025 non-null   int64  \n",
      " 2   cp        1025 non-null   int64  \n",
      " 3   trestbps  1025 non-null   int64  \n",
      " 4   chol      1025 non-null   int64  \n",
      " 5   fbs       1025 non-null   int64  \n",
      " 6   restecg   1025 non-null   int64  \n",
      " 7   thalach   1025 non-null   int64  \n",
      " 8   exang     1025 non-null   int64  \n",
      " 9   oldpeak   1025 non-null   float64\n",
      " 10  slope     1025 non-null   int64  \n",
      " 11  ca        1025 non-null   int64  \n",
      " 12  thal      1025 non-null   int64  \n",
      " 13  target    1025 non-null   int64  \n",
      "dtypes: float64(1), int64(13)\n",
      "memory usage: 112.2 KB\n",
      "Information: \n",
      " None\n",
      "\n",
      "\n",
      "Statistica Summary: \n",
      "                age          sex           cp     trestbps        chol  \\\n",
      "count  1025.000000  1025.000000  1025.000000  1025.000000  1025.00000   \n",
      "mean     54.434146     0.695610     0.942439   131.611707   246.00000   \n",
      "std       9.072290     0.460373     1.029641    17.516718    51.59251   \n",
      "min      29.000000     0.000000     0.000000    94.000000   126.00000   \n",
      "25%      48.000000     0.000000     0.000000   120.000000   211.00000   \n",
      "50%      56.000000     1.000000     1.000000   130.000000   240.00000   \n",
      "75%      61.000000     1.000000     2.000000   140.000000   275.00000   \n",
      "max      77.000000     1.000000     3.000000   200.000000   564.00000   \n",
      "\n",
      "               fbs      restecg      thalach        exang      oldpeak  \\\n",
      "count  1025.000000  1025.000000  1025.000000  1025.000000  1025.000000   \n",
      "mean      0.149268     0.529756   149.114146     0.336585     1.071512   \n",
      "std       0.356527     0.527878    23.005724     0.472772     1.175053   \n",
      "min       0.000000     0.000000    71.000000     0.000000     0.000000   \n",
      "25%       0.000000     0.000000   132.000000     0.000000     0.000000   \n",
      "50%       0.000000     1.000000   152.000000     0.000000     0.800000   \n",
      "75%       0.000000     1.000000   166.000000     1.000000     1.800000   \n",
      "max       1.000000     2.000000   202.000000     1.000000     6.200000   \n",
      "\n",
      "             slope           ca         thal       target  \n",
      "count  1025.000000  1025.000000  1025.000000  1025.000000  \n",
      "mean      1.385366     0.754146     2.323902     0.513171  \n",
      "std       0.617755     1.030798     0.620660     0.500070  \n",
      "min       0.000000     0.000000     0.000000     0.000000  \n",
      "25%       1.000000     0.000000     2.000000     0.000000  \n",
      "50%       1.000000     0.000000     2.000000     1.000000  \n",
      "75%       2.000000     1.000000     3.000000     1.000000  \n",
      "max       2.000000     4.000000     3.000000     1.000000  \n"
     ]
    },
    {
     "data": {
      "text/plain": [
       "<Figure size 1000x800 with 0 Axes>"
      ]
     },
     "metadata": {},
     "output_type": "display_data"
    },
    {
     "data": {
      "image/png": "[encoded data removed]",
      "text/plain": [
       "<Figure size 1000x1000 with 36 Axes>"
      ]
     },
     "metadata": {},
     "output_type": "display_data"
    },
    {
     "name": "stdout",
     "output_type": "stream",
     "text": [
      "\n",
      "Target Class Distribution:\n",
      "1    526\n",
      "0    499\n",
      "Name: target, dtype: int64\n"
     ]
    }
   ],
   "source": [
    "#A (Basic Infromation And Statistical Summary)\n",
    "print(\"Information: \\n\",dataset.info())\n",
    "print(\"\\n\\nStatistica Summary: \\n\",dataset.describe())\n",
    "\n",
    "# Feature distributions\n",
    "sns.set(style=\"whitegrid\")\n",
    "plt.figure(figsize=(10, 8))\n",
    "dataset.hist(bins=20, figsize=(10, 10), layout=(6, 6), edgecolor=\"black\")\n",
    "plt.tight_layout()\n",
    "plt.show()\n",
    "\n",
    "# Target Class Distribution\n",
    "print(\"\\nTarget Class Distribution:\")\n",
    "print(dataset['target'].value_counts())"
   ]
  },
  {
   "cell_type": "code",
   "execution_count": 5,
   "metadata": {},
   "outputs": [
    {
     "name": "stdout",
     "output_type": "stream",
     "text": [
      "No missing values in the dataset.\n",
      "\n",
      "Duplicate Records:\n",
      " 723\n",
      "Dataset After Removing Duplicates:       age  sex  cp  trestbps  chol  fbs  restecg  thalach  exang  oldpeak  \\\n",
      "0     52    1   0       125   212    0        1      168      0      1.0   \n",
      "1     53    1   0       140   203    1        0      155      1      3.1   \n",
      "2     70    1   0       145   174    0        1      125      1      2.6   \n",
      "3     61    1   0       148   203    0        1      161      0      0.0   \n",
      "4     62    0   0       138   294    1        1      106      0      1.9   \n",
      "..   ...  ...  ..       ...   ...  ...      ...      ...    ...      ...   \n",
      "723   68    0   2       120   211    0        0      115      0      1.5   \n",
      "733   44    0   2       108   141    0        1      175      0      0.6   \n",
      "739   52    1   0       128   255    0        1      161      1      0.0   \n",
      "843   59    1   3       160   273    0        0      125      0      0.0   \n",
      "878   54    1   0       120   188    0        1      113      0      1.4   \n",
      "\n",
      "     slope  ca  thal  target  \n",
      "0        2   2     3       0  \n",
      "1        0   0     3       0  \n",
      "2        0   0     3       0  \n",
      "3        2   1     3       0  \n",
      "4        1   3     2       0  \n",
      "..     ...  ..   ...     ...  \n",
      "723      1   0     2       1  \n",
      "733      1   0     2       1  \n",
      "739      2   1     3       0  \n",
      "843      2   0     2       0  \n",
      "878      1   1     3       0  \n",
      "\n",
      "[302 rows x 14 columns]\n",
      "\n",
      "Categorical Features:\n",
      " Index([], dtype='object')\n",
      "      age  sex  cp  trestbps  chol  fbs  restecg  thalach  exang  oldpeak  \\\n",
      "0      52    1   0       125   212    0        1      168      0      1.0   \n",
      "1      53    1   0       140   203    1        0      155      1      3.1   \n",
      "2      70    1   0       145   174    0        1      125      1      2.6   \n",
      "3      61    1   0       148   203    0        1      161      0      0.0   \n",
      "4      62    0   0       138   294    1        1      106      0      1.9   \n",
      "...   ...  ...  ..       ...   ...  ...      ...      ...    ...      ...   \n",
      "1020   59    1   1       140   221    0        1      164      1      0.0   \n",
      "1021   60    1   0       125   258    0        0      141      1      2.8   \n",
      "1022   47    1   0       110   275    0        0      118      1      1.0   \n",
      "1023   50    0   0       110   254    0        0      159      0      0.0   \n",
      "1024   54    1   0       120   188    0        1      113      0      1.4   \n",
      "\n",
      "      slope  ca  thal  target  \n",
      "0         2   2     3       0  \n",
      "1         0   0     3       0  \n",
      "2         0   0     3       0  \n",
      "3         2   1     3       0  \n",
      "4         1   3     2       0  \n",
      "...     ...  ..   ...     ...  \n",
      "1020      2   0     2       1  \n",
      "1021      1   1     3       0  \n",
      "1022      1   1     2       0  \n",
      "1023      2   0     2       1  \n",
      "1024      1   1     3       0  \n",
      "\n",
      "[1025 rows x 14 columns]\n"
     ]
    }
   ],
   "source": [
    "if dataset.isnull().values.any():\n",
    "    missingValues = dataset.isnull().sum()\n",
    "    print(\"Missing Values:\\n\", missingValues)\n",
    "\n",
    "    cleanedDataset = dataset.fillna(dataset.mean())\n",
    "    print(\"Dataset After Removing Missing Values: \", cleanedDataset)\n",
    "else:\n",
    "    print(\"No missing values in the dataset.\")\n",
    "\n",
    "\n",
    "if dataset.duplicated().any():\n",
    "    duplicateRecords = dataset.duplicated().sum()\n",
    "    print(\"\\nDuplicate Records:\\n\", duplicateRecords)\n",
    "\n",
    "    cleanedDataset = dataset.drop_duplicates()\n",
    "    print(\"Dataset After Removing Duplicates: \", cleanedDataset)\n",
    "else:\n",
    "    print(\"No duplicate records in the dataset.\")\n",
    "\n",
    "categoricalFeatures = dataset.select_dtypes(include=['object']).columns\n",
    "print(\"\\nCategorical Features:\\n\", categoricalFeatures)\n",
    "#Here No Categirical Feature Exists!!\n",
    "print(dataset)"
   ]
  },
  {
   "cell_type": "code",
   "execution_count": 6,
   "metadata": {},
   "outputs": [
    {
     "name": "stdout",
     "output_type": "stream",
     "text": [
      "<class 'pandas.core.frame.DataFrame'>\n",
      "RangeIndex: 1025 entries, 0 to 1024\n",
      "Data columns (total 14 columns):\n",
      " #   Column    Non-Null Count  Dtype  \n",
      "---  ------    --------------  -----  \n",
      " 0   age       1025 non-null   int64  \n",
      " 1   sex       1025 non-null   int64  \n",
      " 2   cp        1025 non-null   int64  \n",
      " 3   trestbps  1025 non-null   int64  \n",
      " 4   chol      1025 non-null   int64  \n",
      " 5   fbs       1025 non-null   int64  \n",
      " 6   restecg   1025 non-null   int64  \n",
      " 7   thalach   1025 non-null   int64  \n",
      " 8   exang     1025 non-null   int64  \n",
      " 9   oldpeak   1025 non-null   float64\n",
      " 10  slope     1025 non-null   int64  \n",
      " 11  ca        1025 non-null   int64  \n",
      " 12  thal      1025 non-null   int64  \n",
      " 13  target    1025 non-null   int64  \n",
      "dtypes: float64(1), int64(13)\n",
      "memory usage: 112.2 KB\n"
     ]
    }
   ],
   "source": [
    "dataset.info()"
   ]
  },
  {
   "cell_type": "code",
   "execution_count": 26,
   "metadata": {},
   "outputs": [],
   "source": [
    "#SPlitting\n",
    "x = dataset.drop('target', axis = 1)\n",
    "y = dataset['target']\n",
    "\n",
    "X_train, X_test, Y_train, Y_test = train_test_split(x, y, test_size=0.1, random_state=0)\n",
    "\n",
    "trainAccuracies = []\n",
    "testAccuracies = []"
   ]
  },
  {
   "cell_type": "code",
   "execution_count": 27,
   "metadata": {},
   "outputs": [
    {
     "name": "stdout",
     "output_type": "stream",
     "text": [
      "=================PART B (PENALTY = L1)=================\n",
      "\n",
      "Training Accuracy : 0.85\n",
      "Testing Accuracy  : 0.83\n"
     ]
    }
   ],
   "source": [
    "print(\"=================PART B (PENALTY = L1)=================\\n\")\n",
    "LR = LogisticRegression(penalty='l1',solver='liblinear')\n",
    "\n",
    "modelLR = LR.fit(X_train,Y_train)\n",
    "prediction = modelLR.predict(X_test)\n",
    "\n",
    "accTrain = LR.score(X_train,Y_train)\n",
    "print(f\"Training Accuracy : {accTrain.round(2)}\")\n",
    "\n",
    "accTest = accuracy_score(Y_test,prediction)\n",
    "print(f\"Testing Accuracy  : {accTest.round(2)}\")\n",
    "\n",
    "trainAccuracies.append(accTrain)\n",
    "testAccuracies.append(accTest)"
   ]
  },
  {
   "cell_type": "code",
   "execution_count": 28,
   "metadata": {},
   "outputs": [
    {
     "name": "stdout",
     "output_type": "stream",
     "text": [
      "=================PART C (PENALTY = L2)=================\n",
      "\n",
      "Training Accuracy : 0.85\n",
      "Testing Accuracy  : 0.83\n"
     ]
    }
   ],
   "source": [
    "print(\"=================PART C (PENALTY = L2)=================\\n\")\n",
    "LR = LogisticRegression(penalty='l2',solver='liblinear')\n",
    "\n",
    "modelLR = LR.fit(X_train,Y_train)\n",
    "prediction = modelLR.predict(X_test)\n",
    "\n",
    "accTrain = LR.score(X_train,Y_train)\n",
    "print(f\"Training Accuracy : {accTrain.round(2)}\")\n",
    "\n",
    "accTest = accuracy_score(Y_test,prediction)\n",
    "print(f\"Testing Accuracy  : {accTest.round(2)}\")\n",
    "trainAccuracies.append(accTrain)\n",
    "testAccuracies.append(accTest)"
   ]
  },
  {
   "cell_type": "code",
   "execution_count": 29,
   "metadata": {},
   "outputs": [
    {
     "name": "stdout",
     "output_type": "stream",
     "text": [
      "=================PART D (PENALTY = elasticnet)=================\n",
      "\n",
      "Training Accuracy : 0.85\n",
      "Testing Accuracy  : 0.84\n"
     ]
    }
   ],
   "source": [
    "print(\"=================PART D (PENALTY = elasticnet)=================\\n\")\n",
    "LR = LogisticRegression(penalty='elasticnet',solver='saga',l1_ratio=0.5,max_iter=10000)\n",
    "\n",
    "modelLR = LR.fit(X_train,Y_train)\n",
    "prediction = modelLR.predict(X_test)\n",
    "\n",
    "accTrain = LR.score(X_train,Y_train)\n",
    "print(f\"Training Accuracy : {accTrain.round(2)}\")\n",
    "\n",
    "accTest = accuracy_score(Y_test,prediction)\n",
    "print(f\"Testing Accuracy  : {accTest.round(2)}\")\n",
    "\n",
    "trainAccuracies.append(accTrain)\n",
    "testAccuracies.append(accTest)"
   ]
  },
  {
   "cell_type": "code",
   "execution_count": 32,
   "metadata": {},
   "outputs": [
    {
     "data": {
      "image/png": "[encoded data removed]",
      "text/plain": [
       "<Figure size 640x480 with 1 Axes>"
      ]
     },
     "metadata": {},
     "output_type": "display_data"
    }
   ],
   "source": [
    "#E\n",
    "\n",
    "LR_Panelties = ['l1','l2','elasticnet']\n",
    "bar_width = 0.35\n",
    "\n",
    "r1 = np.arange(len(LR_Panelties))\n",
    "r2 = [x + bar_width for x in r1]\n",
    "\n",
    "plt.bar(r1, trainAccuracies, color='maroon', width=bar_width, edgecolor='grey', label='Training Accuracy')\n",
    "plt.bar(r2, testAccuracies, color='blue', width=bar_width, edgecolor='grey', label='Testing Accuracy')\n",
    "\n",
    "plt.xlabel('Penelties', fontweight='bold')\n",
    "plt.xticks([r + bar_width / 2 for r in r1], LR_Panelties)\n",
    "plt.ylabel('Accuracy')\n",
    "plt.title('Training and Testing Accuracy')\n",
    "plt.legend()\n",
    "plt.tight_layout()\n",
    "plt.show()\n"
   ]
  },
  {
   "cell_type": "code",
   "execution_count": null,
   "metadata": {},
   "outputs": [],
   "source": [
    "#F\n",
    "\n",
    "# I had encountered error while applyng penalities without defining solver, after solver defination error was resolved!!\n",
    "# I adjusted max_iter parameter to remove warning (Was not Converging) and improved accuracy!!"
   ]
  },
  {
   "cell_type": "code",
   "execution_count": null,
   "metadata": {},
   "outputs": [],
   "source": [
    "#G\n",
    "\n",
    "#I used solver additionally!! without defining solver there was occuring an error!!"
   ]
  },
  {
   "cell_type": "markdown",
   "metadata": {},
   "source": [
    "# Task 02"
   ]
  },
  {
   "cell_type": "code",
   "execution_count": 36,
   "metadata": {},
   "outputs": [
    {
     "data": {
      "text/html": [
       "<div>\n",
       "<style scoped>\n",
       "    .dataframe tbody tr th:only-of-type {\n",
       "        vertical-align: middle;\n",
       "    }\n",
       "\n",
       "    .dataframe tbody tr th {\n",
       "        vertical-align: top;\n",
       "    }\n",
       "\n",
       "    .dataframe thead th {\n",
       "        text-align: right;\n",
       "    }\n",
       "</style>\n",
       "<table border=\"1\" class=\"dataframe\">\n",
       "  <thead>\n",
       "    <tr style=\"text-align: right;\">\n",
       "      <th></th>\n",
       "      <th>Id</th>\n",
       "      <th>SepalLengthCm</th>\n",
       "      <th>SepalWidthCm</th>\n",
       "      <th>PetalLengthCm</th>\n",
       "      <th>PetalWidthCm</th>\n",
       "      <th>Species</th>\n",
       "    </tr>\n",
       "  </thead>\n",
       "  <tbody>\n",
       "    <tr>\n",
       "      <th>0</th>\n",
       "      <td>1</td>\n",
       "      <td>5.1</td>\n",
       "      <td>3.5</td>\n",
       "      <td>1.4</td>\n",
       "      <td>0.2</td>\n",
       "      <td>Iris-setosa</td>\n",
       "    </tr>\n",
       "    <tr>\n",
       "      <th>1</th>\n",
       "      <td>2</td>\n",
       "      <td>4.9</td>\n",
       "      <td>3.0</td>\n",
       "      <td>1.4</td>\n",
       "      <td>0.2</td>\n",
       "      <td>Iris-setosa</td>\n",
       "    </tr>\n",
       "    <tr>\n",
       "      <th>2</th>\n",
       "      <td>3</td>\n",
       "      <td>4.7</td>\n",
       "      <td>3.2</td>\n",
       "      <td>1.3</td>\n",
       "      <td>0.2</td>\n",
       "      <td>Iris-setosa</td>\n",
       "    </tr>\n",
       "    <tr>\n",
       "      <th>3</th>\n",
       "      <td>4</td>\n",
       "      <td>4.6</td>\n",
       "      <td>3.1</td>\n",
       "      <td>1.5</td>\n",
       "      <td>0.2</td>\n",
       "      <td>Iris-setosa</td>\n",
       "    </tr>\n",
       "    <tr>\n",
       "      <th>4</th>\n",
       "      <td>5</td>\n",
       "      <td>5.0</td>\n",
       "      <td>3.6</td>\n",
       "      <td>1.4</td>\n",
       "      <td>0.2</td>\n",
       "      <td>Iris-setosa</td>\n",
       "    </tr>\n",
       "  </tbody>\n",
       "</table>\n",
       "</div>"
      ],
      "text/plain": [
       "   Id  SepalLengthCm  SepalWidthCm  PetalLengthCm  PetalWidthCm      Species\n",
       "0   1            5.1           3.5            1.4           0.2  Iris-setosa\n",
       "1   2            4.9           3.0            1.4           0.2  Iris-setosa\n",
       "2   3            4.7           3.2            1.3           0.2  Iris-setosa\n",
       "3   4            4.6           3.1            1.5           0.2  Iris-setosa\n",
       "4   5            5.0           3.6            1.4           0.2  Iris-setosa"
      ]
     },
     "execution_count": 36,
     "metadata": {},
     "output_type": "execute_result"
    }
   ],
   "source": [
    "irisDataset = pd.read_csv('Iris.csv')\n",
    "irisDataset.head()"
   ]
  },
  {
   "cell_type": "code",
   "execution_count": 88,
   "metadata": {},
   "outputs": [],
   "source": [
    "X = irisDataset.drop('Species',axis=1)\n",
    "Y = irisDataset['Species']\n",
    "\n",
    "X_train, X_test, Y_train, Y_test = train_test_split(X,Y, test_size=0.6, random_state=42)\n",
    "\n",
    "trainAccuracies = []\n",
    "testAccuracies = []"
   ]
  },
  {
   "cell_type": "code",
   "execution_count": 89,
   "metadata": {},
   "outputs": [
    {
     "name": "stdout",
     "output_type": "stream",
     "text": [
      "=================(Solver = saga)=================\n",
      "\n",
      "Training Accuracy : 0.93\n",
      "Testing Accuracy  : 0.96\n"
     ]
    }
   ],
   "source": [
    "print(\"=================(Solver = saga)=================\\n\")\n",
    "LR = LogisticRegression(penalty='elasticnet',solver='saga',l1_ratio=0.3,max_iter=10000)\n",
    "\n",
    "modelLR = LR.fit(X_train,Y_train)\n",
    "prediction = modelLR.predict(X_test)\n",
    "\n",
    "accTrain = LR.score(X_train,Y_train)\n",
    "print(f\"Training Accuracy : {accTrain.round(2)}\")\n",
    "\n",
    "accTest = accuracy_score(Y_test,prediction)\n",
    "print(f\"Testing Accuracy  : {accTest.round(2)}\")\n",
    "\n",
    "trainAccuracies.append(accTrain)\n",
    "testAccuracies.append(accTest)"
   ]
  },
  {
   "cell_type": "code",
   "execution_count": 90,
   "metadata": {},
   "outputs": [
    {
     "name": "stdout",
     "output_type": "stream",
     "text": [
      "=================(Solver = sag)=================\n",
      "\n",
      "Training Accuracy : 0.97\n",
      "Testing Accuracy  : 0.97\n"
     ]
    },
    {
     "name": "stderr",
     "output_type": "stream",
     "text": [
      "c:\\ProgramData\\anaconda3\\Lib\\site-packages\\sklearn\\linear_model\\_logistic.py:1165: UserWarning: l1_ratio parameter is only used when penalty is 'elasticnet'. Got (penalty=l2)\n",
      "  warnings.warn(\n"
     ]
    }
   ],
   "source": [
    "print(\"=================(Solver = sag)=================\\n\")\n",
    "LR = LogisticRegression(penalty='l2',solver='sag',l1_ratio=0.3,max_iter=10000)\n",
    "\n",
    "modelLR = LR.fit(X_train,Y_train)\n",
    "prediction = modelLR.predict(X_test)\n",
    "\n",
    "accTrain = LR.score(X_train,Y_train)\n",
    "print(f\"Training Accuracy : {accTrain.round(2)}\")\n",
    "\n",
    "accTest = accuracy_score(Y_test,prediction)\n",
    "print(f\"Testing Accuracy  : {accTest.round(2)}\")\n",
    "\n",
    "trainAccuracies.append(accTrain)\n",
    "testAccuracies.append(accTest)"
   ]
  },
  {
   "cell_type": "code",
   "execution_count": 91,
   "metadata": {},
   "outputs": [
    {
     "name": "stdout",
     "output_type": "stream",
     "text": [
      "=================(Solver = newton-cholesky)=================\n",
      "\n",
      "Training Accuracy : 0.98\n",
      "Testing Accuracy  : 1.0\n"
     ]
    },
    {
     "name": "stderr",
     "output_type": "stream",
     "text": [
      "c:\\ProgramData\\anaconda3\\Lib\\site-packages\\sklearn\\linear_model\\_logistic.py:1165: UserWarning: l1_ratio parameter is only used when penalty is 'elasticnet'. Got (penalty=l2)\n",
      "  warnings.warn(\n"
     ]
    }
   ],
   "source": [
    "print(\"=================(Solver = newton-cholesky)=================\\n\")\n",
    "LR = LogisticRegression(penalty='l2',solver='newton-cholesky',l1_ratio=0.3,max_iter=100000)\n",
    "\n",
    "modelLR = LR.fit(X_train,Y_train)\n",
    "prediction = modelLR.predict(X_test)\n",
    "\n",
    "accTrain = LR.score(X_train,Y_train)\n",
    "print(f\"Training Accuracy : {accTrain.round(2)}\")\n",
    "\n",
    "accTest = accuracy_score(Y_test,prediction)\n",
    "print(f\"Testing Accuracy  : {accTest.round(2)}\")\n",
    "\n",
    "trainAccuracies.append(accTrain)\n",
    "testAccuracies.append(accTest)"
   ]
  },
  {
   "cell_type": "code",
   "execution_count": 92,
   "metadata": {},
   "outputs": [
    {
     "name": "stdout",
     "output_type": "stream",
     "text": [
      "=================(Solver = newton-cg)=================\n",
      "\n",
      "Training Accuracy : 1.0\n",
      "Testing Accuracy  : 1.0\n"
     ]
    },
    {
     "name": "stderr",
     "output_type": "stream",
     "text": [
      "c:\\ProgramData\\anaconda3\\Lib\\site-packages\\sklearn\\linear_model\\_logistic.py:1165: UserWarning: l1_ratio parameter is only used when penalty is 'elasticnet'. Got (penalty=l2)\n",
      "  warnings.warn(\n"
     ]
    }
   ],
   "source": [
    "print(\"=================(Solver = newton-cg)=================\\n\")\n",
    "LR = LogisticRegression(penalty='l2',solver='newton-cg',l1_ratio=0.3,max_iter=1000)\n",
    "\n",
    "modelLR = LR.fit(X_train,Y_train)\n",
    "prediction = modelLR.predict(X_test)\n",
    "\n",
    "accTrain = LR.score(X_train,Y_train)\n",
    "print(f\"Training Accuracy : {accTrain.round(2)}\")\n",
    "\n",
    "accTest = accuracy_score(Y_test,prediction)\n",
    "print(f\"Testing Accuracy  : {accTest.round(2)}\")\n",
    "\n",
    "trainAccuracies.append(accTrain)\n",
    "testAccuracies.append(accTest)"
   ]
  },
  {
   "cell_type": "code",
   "execution_count": 93,
   "metadata": {},
   "outputs": [
    {
     "name": "stdout",
     "output_type": "stream",
     "text": [
      "=================(Solver = liblinear)=================\n",
      "\n",
      "Training Accuracy : 0.9\n",
      "Testing Accuracy  : 0.93\n"
     ]
    },
    {
     "name": "stderr",
     "output_type": "stream",
     "text": [
      "c:\\ProgramData\\anaconda3\\Lib\\site-packages\\sklearn\\linear_model\\_logistic.py:1165: UserWarning: l1_ratio parameter is only used when penalty is 'elasticnet'. Got (penalty=l1)\n",
      "  warnings.warn(\n"
     ]
    }
   ],
   "source": [
    "print(\"=================(Solver = liblinear)=================\\n\")\n",
    "LR = LogisticRegression(penalty='l1',solver='liblinear',l1_ratio=0.5,max_iter=100000)\n",
    "\n",
    "modelLR = LR.fit(X_train,Y_train)\n",
    "prediction = modelLR.predict(X_test)\n",
    "\n",
    "accTrain = LR.score(X_train,Y_train)\n",
    "print(f\"Training Accuracy : {accTrain.round(2)}\")\n",
    "\n",
    "accTest = accuracy_score(Y_test,prediction)\n",
    "print(f\"Testing Accuracy  : {accTest.round(2)}\")\n",
    "\n",
    "trainAccuracies.append(accTrain)\n",
    "testAccuracies.append(accTest)"
   ]
  },
  {
   "cell_type": "code",
   "execution_count": 94,
   "metadata": {},
   "outputs": [
    {
     "name": "stdout",
     "output_type": "stream",
     "text": [
      "=================(Solver = lbfgs)=================\n",
      "\n",
      "Training Accuracy : 1.0\n",
      "Testing Accuracy  : 1.0\n"
     ]
    },
    {
     "name": "stderr",
     "output_type": "stream",
     "text": [
      "c:\\ProgramData\\anaconda3\\Lib\\site-packages\\sklearn\\linear_model\\_logistic.py:1165: UserWarning: l1_ratio parameter is only used when penalty is 'elasticnet'. Got (penalty=l2)\n",
      "  warnings.warn(\n"
     ]
    }
   ],
   "source": [
    "print(\"=================(Solver = lbfgs)=================\\n\")\n",
    "LR = LogisticRegression(penalty='l2',solver='lbfgs',l1_ratio=0.5,max_iter=100000)\n",
    "\n",
    "modelLR = LR.fit(X_train,Y_train)\n",
    "prediction = modelLR.predict(X_test)\n",
    "\n",
    "accTrain = LR.score(X_train,Y_train)\n",
    "print(f\"Training Accuracy : {accTrain.round(2)}\")\n",
    "\n",
    "accTest = accuracy_score(Y_test,prediction)\n",
    "print(f\"Testing Accuracy  : {accTest.round(2)}\")\n",
    "\n",
    "trainAccuracies.append(accTrain)\n",
    "testAccuracies.append(accTest)"
   ]
  },
  {
   "cell_type": "code",
   "execution_count": 101,
   "metadata": {},
   "outputs": [
    {
     "data": {
      "image/png": "[encoded data removed]",
      "text/plain": [
       "<Figure size 640x480 with 1 Axes>"
      ]
     },
     "metadata": {},
     "output_type": "display_data"
    }
   ],
   "source": [
    "solvers = ['saga','sag','newton-cholesky','newton-cg','liblinear','lbfgs']\n",
    "\n",
    "bar_width = 0.35\n",
    "\n",
    "r1 = np.arange(len(solvers))\n",
    "r2 = [x + bar_width for x in r1]\n",
    "\n",
    "plt.bar(r1, trainAccuracies, color='red', width=bar_width, edgecolor='grey', label='Training Accuracy')\n",
    "plt.bar(r2, testAccuracies, color='black', width=bar_width, edgecolor='grey', label='Testing Accuracy')\n",
    "\n",
    "plt.xlabel('Penelties', fontweight='bold')\n",
    "plt.xticks([r + bar_width / 2 for r in r1], solvers)\n",
    "plt.ylabel('Accuracy')\n",
    "plt.title('Training and Testing Accuracy')\n",
    "plt.legend()\n",
    "plt.tight_layout()\n",
    "plt.show()\n"
   ]
  },
  {
   "cell_type": "code",
   "execution_count": null,
   "metadata": {},
   "outputs": [],
   "source": [
    "#lbfgs,newton-cg and sag solvers performing best in my case!!"
   ]
  },
  {
   "cell_type": "code",
   "execution_count": 103,
   "metadata": {},
   "outputs": [
    {
     "data": {
      "text/html": [
       "<div>\n",
       "<style scoped>\n",
       "    .dataframe tbody tr th:only-of-type {\n",
       "        vertical-align: middle;\n",
       "    }\n",
       "\n",
       "    .dataframe tbody tr th {\n",
       "        vertical-align: top;\n",
       "    }\n",
       "\n",
       "    .dataframe thead th {\n",
       "        text-align: right;\n",
       "    }\n",
       "</style>\n",
       "<table border=\"1\" class=\"dataframe\">\n",
       "  <thead>\n",
       "    <tr style=\"text-align: right;\">\n",
       "      <th></th>\n",
       "      <th>age</th>\n",
       "      <th>sex</th>\n",
       "      <th>cp</th>\n",
       "      <th>trestbps</th>\n",
       "      <th>chol</th>\n",
       "      <th>fbs</th>\n",
       "      <th>restecg</th>\n",
       "      <th>thalach</th>\n",
       "      <th>exang</th>\n",
       "      <th>oldpeak</th>\n",
       "      <th>slope</th>\n",
       "      <th>ca</th>\n",
       "      <th>thal</th>\n",
       "      <th>target</th>\n",
       "    </tr>\n",
       "  </thead>\n",
       "  <tbody>\n",
       "    <tr>\n",
       "      <th>0</th>\n",
       "      <td>52</td>\n",
       "      <td>1</td>\n",
       "      <td>0</td>\n",
       "      <td>125</td>\n",
       "      <td>212</td>\n",
       "      <td>0</td>\n",
       "      <td>1</td>\n",
       "      <td>168</td>\n",
       "      <td>0</td>\n",
       "      <td>1.0</td>\n",
       "      <td>2</td>\n",
       "      <td>2</td>\n",
       "      <td>3</td>\n",
       "      <td>0</td>\n",
       "    </tr>\n",
       "    <tr>\n",
       "      <th>1</th>\n",
       "      <td>53</td>\n",
       "      <td>1</td>\n",
       "      <td>0</td>\n",
       "      <td>140</td>\n",
       "      <td>203</td>\n",
       "      <td>1</td>\n",
       "      <td>0</td>\n",
       "      <td>155</td>\n",
       "      <td>1</td>\n",
       "      <td>3.1</td>\n",
       "      <td>0</td>\n",
       "      <td>0</td>\n",
       "      <td>3</td>\n",
       "      <td>0</td>\n",
       "    </tr>\n",
       "    <tr>\n",
       "      <th>2</th>\n",
       "      <td>70</td>\n",
       "      <td>1</td>\n",
       "      <td>0</td>\n",
       "      <td>145</td>\n",
       "      <td>174</td>\n",
       "      <td>0</td>\n",
       "      <td>1</td>\n",
       "      <td>125</td>\n",
       "      <td>1</td>\n",
       "      <td>2.6</td>\n",
       "      <td>0</td>\n",
       "      <td>0</td>\n",
       "      <td>3</td>\n",
       "      <td>0</td>\n",
       "    </tr>\n",
       "    <tr>\n",
       "      <th>3</th>\n",
       "      <td>61</td>\n",
       "      <td>1</td>\n",
       "      <td>0</td>\n",
       "      <td>148</td>\n",
       "      <td>203</td>\n",
       "      <td>0</td>\n",
       "      <td>1</td>\n",
       "      <td>161</td>\n",
       "      <td>0</td>\n",
       "      <td>0.0</td>\n",
       "      <td>2</td>\n",
       "      <td>1</td>\n",
       "      <td>3</td>\n",
       "      <td>0</td>\n",
       "    </tr>\n",
       "    <tr>\n",
       "      <th>4</th>\n",
       "      <td>62</td>\n",
       "      <td>0</td>\n",
       "      <td>0</td>\n",
       "      <td>138</td>\n",
       "      <td>294</td>\n",
       "      <td>1</td>\n",
       "      <td>1</td>\n",
       "      <td>106</td>\n",
       "      <td>0</td>\n",
       "      <td>1.9</td>\n",
       "      <td>1</td>\n",
       "      <td>3</td>\n",
       "      <td>2</td>\n",
       "      <td>0</td>\n",
       "    </tr>\n",
       "  </tbody>\n",
       "</table>\n",
       "</div>"
      ],
      "text/plain": [
       "   age  sex  cp  trestbps  chol  fbs  restecg  thalach  exang  oldpeak  slope  \\\n",
       "0   52    1   0       125   212    0        1      168      0      1.0      2   \n",
       "1   53    1   0       140   203    1        0      155      1      3.1      0   \n",
       "2   70    1   0       145   174    0        1      125      1      2.6      0   \n",
       "3   61    1   0       148   203    0        1      161      0      0.0      2   \n",
       "4   62    0   0       138   294    1        1      106      0      1.9      1   \n",
       "\n",
       "   ca  thal  target  \n",
       "0   2     3       0  \n",
       "1   0     3       0  \n",
       "2   0     3       0  \n",
       "3   1     3       0  \n",
       "4   3     2       0  "
      ]
     },
     "execution_count": 103,
     "metadata": {},
     "output_type": "execute_result"
    }
   ],
   "source": [
    "dataset = pd.read_csv('heart.csv')\n",
    "dataset.head()"
   ]
  },
  {
   "cell_type": "code",
   "execution_count": 104,
   "metadata": {},
   "outputs": [],
   "source": [
    "x = dataset.drop('target', axis = 1)\n",
    "y = dataset['target']\n",
    "\n",
    "X_train, X_test, Y_train, Y_test = train_test_split(x, y, test_size=0.1, random_state=0)\n",
    "\n",
    "trainAccuracies = []\n",
    "testAccuracies = []"
   ]
  },
  {
   "cell_type": "code",
   "execution_count": 105,
   "metadata": {},
   "outputs": [
    {
     "name": "stdout",
     "output_type": "stream",
     "text": [
      "=================(Solver = saga)=================\n",
      "\n",
      "Training Accuracy : 0.85\n",
      "Testing Accuracy  : 0.84\n"
     ]
    }
   ],
   "source": [
    "print(\"=================(Solver = saga)=================\\n\")\n",
    "LR = LogisticRegression(penalty='elasticnet',solver='saga',l1_ratio=0.3,max_iter=10000)\n",
    "\n",
    "modelLR = LR.fit(X_train,Y_train)\n",
    "prediction = modelLR.predict(X_test)\n",
    "\n",
    "accTrain = LR.score(X_train,Y_train)\n",
    "print(f\"Training Accuracy : {accTrain.round(2)}\")\n",
    "\n",
    "accTest = accuracy_score(Y_test,prediction)\n",
    "print(f\"Testing Accuracy  : {accTest.round(2)}\")\n",
    "\n",
    "trainAccuracies.append(accTrain)\n",
    "testAccuracies.append(accTest)"
   ]
  },
  {
   "cell_type": "code",
   "execution_count": 106,
   "metadata": {},
   "outputs": [
    {
     "name": "stdout",
     "output_type": "stream",
     "text": [
      "=================(Solver = sag)=================\n",
      "\n"
     ]
    },
    {
     "name": "stderr",
     "output_type": "stream",
     "text": [
      "c:\\ProgramData\\anaconda3\\Lib\\site-packages\\sklearn\\linear_model\\_logistic.py:1165: UserWarning: l1_ratio parameter is only used when penalty is 'elasticnet'. Got (penalty=l2)\n",
      "  warnings.warn(\n"
     ]
    },
    {
     "name": "stdout",
     "output_type": "stream",
     "text": [
      "Training Accuracy : 0.85\n",
      "Testing Accuracy  : 0.83\n"
     ]
    }
   ],
   "source": [
    "print(\"=================(Solver = sag)=================\\n\")\n",
    "LR = LogisticRegression(penalty='l2',solver='sag',l1_ratio=0.3,max_iter=10000)\n",
    "\n",
    "modelLR = LR.fit(X_train,Y_train)\n",
    "prediction = modelLR.predict(X_test)\n",
    "\n",
    "accTrain = LR.score(X_train,Y_train)\n",
    "print(f\"Training Accuracy : {accTrain.round(2)}\")\n",
    "\n",
    "accTest = accuracy_score(Y_test,prediction)\n",
    "print(f\"Testing Accuracy  : {accTest.round(2)}\")\n",
    "\n",
    "trainAccuracies.append(accTrain)\n",
    "testAccuracies.append(accTest)"
   ]
  },
  {
   "cell_type": "code",
   "execution_count": 107,
   "metadata": {},
   "outputs": [
    {
     "name": "stdout",
     "output_type": "stream",
     "text": [
      "=================(Solver = newton-cholesky)=================\n",
      "\n",
      "Training Accuracy : 0.85\n",
      "Testing Accuracy  : 0.83\n"
     ]
    },
    {
     "name": "stderr",
     "output_type": "stream",
     "text": [
      "c:\\ProgramData\\anaconda3\\Lib\\site-packages\\sklearn\\linear_model\\_logistic.py:1165: UserWarning: l1_ratio parameter is only used when penalty is 'elasticnet'. Got (penalty=l2)\n",
      "  warnings.warn(\n"
     ]
    }
   ],
   "source": [
    "print(\"=================(Solver = newton-cholesky)=================\\n\")\n",
    "LR = LogisticRegression(penalty='l2',solver='newton-cholesky',l1_ratio=0.3,max_iter=100000)\n",
    "\n",
    "modelLR = LR.fit(X_train,Y_train)\n",
    "prediction = modelLR.predict(X_test)\n",
    "\n",
    "accTrain = LR.score(X_train,Y_train)\n",
    "print(f\"Training Accuracy : {accTrain.round(2)}\")\n",
    "\n",
    "accTest = accuracy_score(Y_test,prediction)\n",
    "print(f\"Testing Accuracy  : {accTest.round(2)}\")\n",
    "\n",
    "trainAccuracies.append(accTrain)\n",
    "testAccuracies.append(accTest)"
   ]
  },
  {
   "cell_type": "code",
   "execution_count": 108,
   "metadata": {},
   "outputs": [
    {
     "name": "stdout",
     "output_type": "stream",
     "text": [
      "=================(Solver = newton-cg)=================\n",
      "\n",
      "Training Accuracy : 0.85\n",
      "Testing Accuracy  : 0.83\n"
     ]
    },
    {
     "name": "stderr",
     "output_type": "stream",
     "text": [
      "c:\\ProgramData\\anaconda3\\Lib\\site-packages\\sklearn\\linear_model\\_logistic.py:1165: UserWarning: l1_ratio parameter is only used when penalty is 'elasticnet'. Got (penalty=l2)\n",
      "  warnings.warn(\n"
     ]
    }
   ],
   "source": [
    "print(\"=================(Solver = newton-cg)=================\\n\")\n",
    "LR = LogisticRegression(penalty='l2',solver='newton-cg',l1_ratio=0.3,max_iter=1000)\n",
    "\n",
    "modelLR = LR.fit(X_train,Y_train)\n",
    "prediction = modelLR.predict(X_test)\n",
    "\n",
    "accTrain = LR.score(X_train,Y_train)\n",
    "print(f\"Training Accuracy : {accTrain.round(2)}\")\n",
    "\n",
    "accTest = accuracy_score(Y_test,prediction)\n",
    "print(f\"Testing Accuracy  : {accTest.round(2)}\")\n",
    "\n",
    "trainAccuracies.append(accTrain)\n",
    "testAccuracies.append(accTest)"
   ]
  },
  {
   "cell_type": "code",
   "execution_count": 109,
   "metadata": {},
   "outputs": [
    {
     "name": "stdout",
     "output_type": "stream",
     "text": [
      "=================(Solver = liblinear)=================\n",
      "\n",
      "Training Accuracy : 0.85\n",
      "Testing Accuracy  : 0.83\n"
     ]
    },
    {
     "name": "stderr",
     "output_type": "stream",
     "text": [
      "c:\\ProgramData\\anaconda3\\Lib\\site-packages\\sklearn\\linear_model\\_logistic.py:1165: UserWarning: l1_ratio parameter is only used when penalty is 'elasticnet'. Got (penalty=l1)\n",
      "  warnings.warn(\n"
     ]
    }
   ],
   "source": [
    "print(\"=================(Solver = liblinear)=================\\n\")\n",
    "LR = LogisticRegression(penalty='l1',solver='liblinear',l1_ratio=0.5,max_iter=100000)\n",
    "\n",
    "modelLR = LR.fit(X_train,Y_train)\n",
    "prediction = modelLR.predict(X_test)\n",
    "\n",
    "accTrain = LR.score(X_train,Y_train)\n",
    "print(f\"Training Accuracy : {accTrain.round(2)}\")\n",
    "\n",
    "accTest = accuracy_score(Y_test,prediction)\n",
    "print(f\"Testing Accuracy  : {accTest.round(2)}\")\n",
    "\n",
    "trainAccuracies.append(accTrain)\n",
    "testAccuracies.append(accTest)"
   ]
  },
  {
   "cell_type": "code",
   "execution_count": 110,
   "metadata": {},
   "outputs": [
    {
     "name": "stdout",
     "output_type": "stream",
     "text": [
      "=================(Solver = lbfgs)=================\n",
      "\n",
      "Training Accuracy : 0.85\n",
      "Testing Accuracy  : 0.83\n"
     ]
    },
    {
     "name": "stderr",
     "output_type": "stream",
     "text": [
      "c:\\ProgramData\\anaconda3\\Lib\\site-packages\\sklearn\\linear_model\\_logistic.py:1165: UserWarning: l1_ratio parameter is only used when penalty is 'elasticnet'. Got (penalty=l2)\n",
      "  warnings.warn(\n"
     ]
    }
   ],
   "source": [
    "print(\"=================(Solver = lbfgs)=================\\n\")\n",
    "LR = LogisticRegression(penalty='l2',solver='lbfgs',l1_ratio=0.5,max_iter=100000)\n",
    "\n",
    "modelLR = LR.fit(X_train,Y_train)\n",
    "prediction = modelLR.predict(X_test)\n",
    "\n",
    "accTrain = LR.score(X_train,Y_train)\n",
    "print(f\"Training Accuracy : {accTrain.round(2)}\")\n",
    "\n",
    "accTest = accuracy_score(Y_test,prediction)\n",
    "print(f\"Testing Accuracy  : {accTest.round(2)}\")\n",
    "\n",
    "trainAccuracies.append(accTrain)\n",
    "testAccuracies.append(accTest)"
   ]
  },
  {
   "cell_type": "code",
   "execution_count": 111,
   "metadata": {},
   "outputs": [
    {
     "data": {
      "image/png": "[encoded data removed]",
      "text/plain": [
       "<Figure size 640x480 with 1 Axes>"
      ]
     },
     "metadata": {},
     "output_type": "display_data"
    }
   ],
   "source": [
    "solvers = ['saga','sag','newton-cholesky','newton-cg','liblinear','lbfgs']\n",
    "\n",
    "bar_width = 0.35\n",
    "\n",
    "r1 = np.arange(len(solvers))\n",
    "r2 = [x + bar_width for x in r1]\n",
    "\n",
    "plt.bar(r1, trainAccuracies, color='red', width=bar_width, edgecolor='grey', label='Training Accuracy')\n",
    "plt.bar(r2, testAccuracies, color='black', width=bar_width, edgecolor='grey', label='Testing Accuracy')\n",
    "\n",
    "plt.xlabel('Penelties', fontweight='bold')\n",
    "plt.xticks([r + bar_width / 2 for r in r1], solvers)\n",
    "plt.ylabel('Accuracy')\n",
    "plt.title('Training and Testing Accuracy')\n",
    "plt.legend()\n",
    "plt.tight_layout()\n",
    "plt.show()\n"
   ]
  },
  {
   "cell_type": "markdown",
   "metadata": {},
   "source": [
    "# Task 03"
   ]
  },
  {
   "cell_type": "code",
   "execution_count": null,
   "metadata": {},
   "outputs": [],
   "source": []
  }
 ],
 "metadata": {
  "kernelspec": {
   "display_name": "base",
   "language": "python",
   "name": "python3"
  },
  "language_info": {
   "codemirror_mode": {
    "name": "ipython",
    "version": 3
   },
   "file_extension": ".py",
   "mimetype": "text/x-python",
   "name": "python",
   "nbconvert_exporter": "python",
   "pygments_lexer": "ipython3",
   "version": "3.11.3"
  }
 },
 "nbformat": 4,
 "nbformat_minor": 2
}
